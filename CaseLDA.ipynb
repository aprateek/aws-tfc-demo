{
 "cells": [
  {
   "cell_type": "code",
   "execution_count": 19,
   "id": "2890fb4d",
   "metadata": {},
   "outputs": [],
   "source": [
    "import pandas as pd\n",
    "import numpy as np\n",
    "import matplotlib.pyplot as plt\n",
    "import io\n",
    "import time\n",
    "import json\n",
    "import sagemaker.amazon.common as smac"
   ]
  },
  {
   "cell_type": "code",
   "execution_count": 20,
   "id": "e765c9cf",
   "metadata": {},
   "outputs": [],
   "source": [
    " # Read CSV file in Panda dataframe\n",
    "bucket='sagemaker-pratlda'\n",
    "data_key = 'all_tickets.csv'\n",
    "data_location = 's3://{}/{}'.format(bucket, data_key)\n",
    "df= pd.read_csv(data_location)\n"
   ]
  },
  {
   "cell_type": "code",
   "execution_count": 21,
   "id": "e8aa98c1",
   "metadata": {},
   "outputs": [
    {
     "data": {
      "text/plain": [
       "<bound method NDFrame.head of                                                   title  \\\n",
       "0                                                   NaN   \n",
       "1                                  connection with icon   \n",
       "2                                  work experience user   \n",
       "3                                requesting for meeting   \n",
       "4                 reset passwords for external accounts   \n",
       "...                                                 ...   \n",
       "48544  git space for a project issues with adding users   \n",
       "48545                                             error   \n",
       "48546                                 connection issues   \n",
       "48547                                error cube reports   \n",
       "48548                         running out on extensions   \n",
       "\n",
       "                                                    body  ticket_type  \\\n",
       "0      hi since recruiter lead permission approve req...            1   \n",
       "1      icon dear please setup icon per icon engineers...            1   \n",
       "2      work experience user hi work experience studen...            1   \n",
       "3      requesting meeting hi please help follow equip...            1   \n",
       "4      re expire days hi ask help update passwords co...            1   \n",
       "...                                                  ...          ...   \n",
       "48544  sent tuesday july re git space for hi got righ...            0   \n",
       "48545  sent july error hi guys can you help out with ...            0   \n",
       "48546  sent tuesday july connection issues hello have...            0   \n",
       "48547  sent tuesday july error hello guys have receiv...            0   \n",
       "48548  hello please be advised we running out extensi...            0   \n",
       "\n",
       "       category  sub_category1  sub_category2  business_service  urgency  \\\n",
       "0             4              2             21                71        3   \n",
       "1             6             22              7                26        3   \n",
       "2             5             13              7                32        3   \n",
       "3             5             13              7                32        3   \n",
       "4             4              2             76                 4        3   \n",
       "...         ...            ...            ...               ...      ...   \n",
       "48544         4             21              1                39        1   \n",
       "48545         4              9             41                10        2   \n",
       "48546         5             32              0                32        2   \n",
       "48547         4             21             41                35        1   \n",
       "48548         4             51             98                96        2   \n",
       "\n",
       "       impact  \n",
       "0           4  \n",
       "1           4  \n",
       "2           4  \n",
       "3           4  \n",
       "4           4  \n",
       "...       ...  \n",
       "48544       3  \n",
       "48545       3  \n",
       "48546       3  \n",
       "48547       3  \n",
       "48548       3  \n",
       "\n",
       "[48549 rows x 9 columns]>"
      ]
     },
     "execution_count": 21,
     "metadata": {},
     "output_type": "execute_result"
    }
   ],
   "source": [
    " df.head"
   ]
  },
  {
   "cell_type": "code",
   "execution_count": 22,
   "id": "43be44b7",
   "metadata": {},
   "outputs": [],
   "source": [
    "df['num_words'] = df.body.apply(lambda x : len(x.split()))"
   ]
  },
  {
   "cell_type": "code",
   "execution_count": 23,
   "id": "d4053a07",
   "metadata": {},
   "outputs": [],
   "source": [
    "bins=[0,50,75, np.inf]\n",
    "df['bins']=pd.cut(df.num_words, bins=[0,100,300,500,800, np.inf], labels=['0-100', '100-300', '300-500','500-800' ,'>800'])"
   ]
  },
  {
   "cell_type": "code",
   "execution_count": 24,
   "id": "b7570268",
   "metadata": {},
   "outputs": [],
   "source": [
    "word_distribution = df.groupby('bins').size().reset_index().rename(columns={0:'counts'})"
   ]
  },
  {
   "cell_type": "code",
   "execution_count": 25,
   "id": "a5ca9ee7",
   "metadata": {},
   "outputs": [
    {
     "name": "stdout",
     "output_type": "stream",
     "text": [
      "Collecting package metadata (current_repodata.json): done\n",
      "Solving environment: failed with initial frozen solve. Retrying with flexible solve.\n",
      "Collecting package metadata (repodata.json): done\n",
      "Solving environment: failed with initial frozen solve. Retrying with flexible solve.\n",
      "Solving environment: done\n",
      "\n",
      "\n",
      "==> WARNING: A newer version of conda exists. <==\n",
      "  current version: 4.8.4\n",
      "  latest version: 4.10.1\n",
      "\n",
      "Please update conda by running\n",
      "\n",
      "    $ conda update -n base -c defaults conda\n",
      "\n",
      "\n",
      "\n",
      "## Package Plan ##\n",
      "\n",
      "  environment location: /home/ec2-user/anaconda3/envs/python3\n",
      "\n",
      "  added / updated specs:\n",
      "    - wordcloud\n",
      "\n",
      "\n",
      "The following packages will be downloaded:\n",
      "\n",
      "    package                    |            build\n",
      "    ---------------------------|-----------------\n",
      "    aiobotocore-1.2.2          |     pyhd8ed1ab_0          40 KB  conda-forge\n",
      "    aiohttp-3.7.3              |   py36h8f6f2f9_2         629 KB  conda-forge\n",
      "    astroid-2.5                |   py36h5fab9bb_1         297 KB  conda-forge\n",
      "    botocore-1.19.52           |     pyhd8ed1ab_0         4.4 MB  conda-forge\n",
      "    lxml-4.6.2                 |   py36h04a5ba7_1         1.5 MB  conda-forge\n",
      "    pylint-2.6.0               |   py36h5fab9bb_1         452 KB  conda-forge\n",
      "    requests-2.13.0            |           py36_0         780 KB  conda-forge\n",
      "    urllib3-1.26.3             |     pyhd8ed1ab_0          99 KB  conda-forge\n",
      "    ------------------------------------------------------------\n",
      "                                           Total:         8.2 MB\n",
      "\n",
      "The following packages will be UPDATED:\n",
      "\n",
      "  idna                                    2.10-pyh9f0ad1d_0 --> 3.1-pyhd3deb0d_0\n",
      "\n",
      "The following packages will be SUPERSEDED by a higher-priority channel:\n",
      "\n",
      "  requests           conda-forge/noarch::requests-2.25.1-p~ --> conda-forge/linux-64::requests-2.13.0-py36_0\n",
      "\n",
      "The following packages will be DOWNGRADED:\n",
      "\n",
      "  aiobotocore                            1.3.0-pyhd8ed1ab_0 --> 1.2.2-pyhd8ed1ab_0\n",
      "  aiohttp                              3.7.4-py36h8f6f2f9_0 --> 3.7.3-py36h8f6f2f9_2\n",
      "  astroid                              2.5.6-py36h5fab9bb_0 --> 2.5-py36h5fab9bb_1\n",
      "  botocore                             1.20.49-pyhd8ed1ab_0 --> 1.19.52-pyhd8ed1ab_0\n",
      "  dataclasses                              0.8-pyh787bdff_0 --> 0.7-pyhe4b4509_6\n",
      "  docutils                            0.17.1-py36h5fab9bb_0 --> 0.16-py36h5fab9bb_3\n",
      "  lxml                                 4.6.3-py36h04a5ba7_0 --> 4.6.2-py36h04a5ba7_1\n",
      "  pillow                               8.1.2-py36ha6010c0_1 --> 8.1.0-py36ha6010c0_2\n",
      "  pylint                               2.7.2-py36h5fab9bb_0 --> 2.6.0-py36h5fab9bb_1\n",
      "  urllib3                               1.26.4-pyhd8ed1ab_0 --> 1.26.3-pyhd8ed1ab_0\n",
      "\n",
      "\n",
      "\n",
      "Downloading and Extracting Packages\n",
      "botocore-1.19.52     | 4.4 MB    | ##################################### | 100% \n",
      "lxml-4.6.2           | 1.5 MB    | ##################################### | 100% \n",
      "aiohttp-3.7.3        | 629 KB    | ##################################### | 100% \n",
      "urllib3-1.26.3       | 99 KB     | ##################################### | 100% \n",
      "aiobotocore-1.2.2    | 40 KB     | ##################################### | 100% \n",
      "requests-2.13.0      | 780 KB    | ##################################### | 100% \n",
      "astroid-2.5          | 297 KB    | ##################################### | 100% \n",
      "pylint-2.6.0         | 452 KB    | ##################################### | 100% \n",
      "Preparing transaction: done\n",
      "Verifying transaction: done\n",
      "Executing transaction: done\n",
      "\n",
      "Note: you may need to restart the kernel to use updated packages.\n"
     ]
    }
   ],
   "source": [
    "conda install -c conda-forge wordcloud"
   ]
  },
  {
   "cell_type": "code",
   "execution_count": 28,
   "id": "3360a450",
   "metadata": {},
   "outputs": [
    {
     "data": {
      "text/html": [
       "<div>\n",
       "<style scoped>\n",
       "    .dataframe tbody tr th:only-of-type {\n",
       "        vertical-align: middle;\n",
       "    }\n",
       "\n",
       "    .dataframe tbody tr th {\n",
       "        vertical-align: top;\n",
       "    }\n",
       "\n",
       "    .dataframe thead th {\n",
       "        text-align: right;\n",
       "    }\n",
       "</style>\n",
       "<table border=\"1\" class=\"dataframe\">\n",
       "  <thead>\n",
       "    <tr style=\"text-align: right;\">\n",
       "      <th></th>\n",
       "      <th>title</th>\n",
       "      <th>body</th>\n",
       "      <th>ticket_type</th>\n",
       "      <th>category</th>\n",
       "      <th>sub_category1</th>\n",
       "      <th>sub_category2</th>\n",
       "      <th>business_service</th>\n",
       "      <th>urgency</th>\n",
       "      <th>impact</th>\n",
       "      <th>num_words</th>\n",
       "      <th>bins</th>\n",
       "    </tr>\n",
       "  </thead>\n",
       "  <tbody>\n",
       "    <tr>\n",
       "      <th>0</th>\n",
       "      <td>NaN</td>\n",
       "      <td>hi since recruiter lead permission approve req...</td>\n",
       "      <td>1</td>\n",
       "      <td>4</td>\n",
       "      <td>2</td>\n",
       "      <td>21</td>\n",
       "      <td>71</td>\n",
       "      <td>3</td>\n",
       "      <td>4</td>\n",
       "      <td>12</td>\n",
       "      <td>0-100</td>\n",
       "    </tr>\n",
       "    <tr>\n",
       "      <th>1</th>\n",
       "      <td>connection with icon</td>\n",
       "      <td>icon dear please setup icon per icon engineers...</td>\n",
       "      <td>1</td>\n",
       "      <td>6</td>\n",
       "      <td>22</td>\n",
       "      <td>7</td>\n",
       "      <td>26</td>\n",
       "      <td>3</td>\n",
       "      <td>4</td>\n",
       "      <td>15</td>\n",
       "      <td>0-100</td>\n",
       "    </tr>\n",
       "    <tr>\n",
       "      <th>2</th>\n",
       "      <td>work experience user</td>\n",
       "      <td>work experience user hi work experience studen...</td>\n",
       "      <td>1</td>\n",
       "      <td>5</td>\n",
       "      <td>13</td>\n",
       "      <td>7</td>\n",
       "      <td>32</td>\n",
       "      <td>3</td>\n",
       "      <td>4</td>\n",
       "      <td>16</td>\n",
       "      <td>0-100</td>\n",
       "    </tr>\n",
       "    <tr>\n",
       "      <th>3</th>\n",
       "      <td>requesting for meeting</td>\n",
       "      <td>requesting meeting hi please help follow equip...</td>\n",
       "      <td>1</td>\n",
       "      <td>5</td>\n",
       "      <td>13</td>\n",
       "      <td>7</td>\n",
       "      <td>32</td>\n",
       "      <td>3</td>\n",
       "      <td>4</td>\n",
       "      <td>11</td>\n",
       "      <td>0-100</td>\n",
       "    </tr>\n",
       "    <tr>\n",
       "      <th>4</th>\n",
       "      <td>reset passwords for external accounts</td>\n",
       "      <td>re expire days hi ask help update passwords co...</td>\n",
       "      <td>1</td>\n",
       "      <td>4</td>\n",
       "      <td>2</td>\n",
       "      <td>76</td>\n",
       "      <td>4</td>\n",
       "      <td>3</td>\n",
       "      <td>4</td>\n",
       "      <td>140</td>\n",
       "      <td>100-300</td>\n",
       "    </tr>\n",
       "  </tbody>\n",
       "</table>\n",
       "</div>"
      ],
      "text/plain": [
       "                                   title  \\\n",
       "0                                    NaN   \n",
       "1                   connection with icon   \n",
       "2                   work experience user   \n",
       "3                 requesting for meeting   \n",
       "4  reset passwords for external accounts   \n",
       "\n",
       "                                                body  ticket_type  category  \\\n",
       "0  hi since recruiter lead permission approve req...            1         4   \n",
       "1  icon dear please setup icon per icon engineers...            1         6   \n",
       "2  work experience user hi work experience studen...            1         5   \n",
       "3  requesting meeting hi please help follow equip...            1         5   \n",
       "4  re expire days hi ask help update passwords co...            1         4   \n",
       "\n",
       "   sub_category1  sub_category2  business_service  urgency  impact  num_words  \\\n",
       "0              2             21                71        3       4         12   \n",
       "1             22              7                26        3       4         15   \n",
       "2             13              7                32        3       4         16   \n",
       "3             13              7                32        3       4         11   \n",
       "4              2             76                 4        3       4        140   \n",
       "\n",
       "      bins  \n",
       "0    0-100  \n",
       "1    0-100  \n",
       "2    0-100  \n",
       "3    0-100  \n",
       "4  100-300  "
      ]
     },
     "execution_count": 28,
     "metadata": {},
     "output_type": "execute_result"
    }
   ],
   "source": [
    "df.head()"
   ]
  },
  {
   "cell_type": "code",
   "execution_count": 29,
   "id": "710b79b1",
   "metadata": {},
   "outputs": [],
   "source": [
    "from sklearn.feature_extraction.text import CountVectorizer, TfidfTransformer\n",
    "import numpy as np\n",
    "import pandas as pd\n",
    "import re\n",
    "import warnings\n",
    "\n",
    "#Visualisation\n",
    "import matplotlib.pyplot as plt\n",
    "import matplotlib\n",
    "import seaborn as sns\n",
    "from IPython.display import display\n",
    "#from mpl_toolkits.basemap import Basemap\n",
    "from wordcloud import WordCloud, STOPWORDS\n",
    "\n",
    "#nltk\n",
    "from nltk.stem import WordNetLemmatizer\n",
    "from nltk.sentiment.vader import SentimentIntensityAnalyzer\n",
    "from nltk.sentiment.util import *\n",
    "from nltk import tokenize"
   ]
  },
  {
   "cell_type": "code",
   "execution_count": 30,
   "id": "214f3e5d",
   "metadata": {},
   "outputs": [],
   "source": [
    "df['body'] = df['body'].astype(str)"
   ]
  },
  {
   "cell_type": "code",
   "execution_count": 31,
   "id": "3f8209f4",
   "metadata": {},
   "outputs": [],
   "source": [
    "data_description = df.body.values"
   ]
  },
  {
   "cell_type": "code",
   "execution_count": 32,
   "id": "4928db2b",
   "metadata": {},
   "outputs": [
    {
     "data": {
      "text/plain": [
       "numpy.ndarray"
      ]
     },
     "execution_count": 32,
     "metadata": {},
     "output_type": "execute_result"
    }
   ],
   "source": [
    "type(data_description)"
   ]
  },
  {
   "cell_type": "code",
   "execution_count": null,
   "id": "00923d54",
   "metadata": {},
   "outputs": [],
   "source": [
    "#cv = # Initialize a CountVectorizer object: count_vectorizer\n",
    "count_vec = CountVectorizer(stop_words=\"english\", analyzer='word', \n",
    "                            ngram_range=(1, 1), max_df=1, min_df=1, max_features=None)\n",
    "\n",
    "# convert text data into term-frequency matrix\n",
    "data_description = count_vec.fit_transform(data_description)\n",
    "\n",
    "\n",
    "\n",
    "\n",
    "tfidf_transformer = TfidfTransformer()\n",
    "\n",
    "# convert term-frequency matrix into tf-idf\n",
    "tfidf_matrix = tfidf_transformer.fit_transform(data_description)\n",
    "\n",
    "# create dictionary to find a tfidf word each word\n",
    "word2tfidf = dict(zip(count_vec.get_feature_names(), tfidf_transformer.idf_))\n",
    "\n",
    "for word, score in word2tfidf.items():\n",
    "     print(word, score)"
   ]
  },
  {
   "cell_type": "code",
   "execution_count": 34,
   "id": "44fde4ec",
   "metadata": {},
   "outputs": [
    {
     "data": {
      "text/plain": [
       "dict"
      ]
     },
     "execution_count": 34,
     "metadata": {},
     "output_type": "execute_result"
    }
   ],
   "source": [
    "term_frequency = count_vec.vocabulary_\n",
    "type(term_frequency)"
   ]
  },
  {
   "cell_type": "code",
   "execution_count": 35,
   "id": "8b271993",
   "metadata": {},
   "outputs": [
    {
     "name": "stdout",
     "output_type": "stream",
     "text": [
      "Features with lowest idf:\n",
      "['abbott' 'previews' 'priced' 'pricy' 'prim' 'primate' 'priory' 'prise'\n",
      " 'privet' 'probed']\n",
      "\n",
      "Features with highest idf:\n",
      "['faded' 'fades' 'fads' 'faint' 'fairness' 'fakes' 'fallowed' 'familia'\n",
      " 'facial' 'zori']\n"
     ]
    }
   ],
   "source": [
    "sorted_by_idf = np.argsort(tfidf_transformer.idf_)\n",
    "feature_names = np.array(count_vec.get_feature_names())\n",
    "print(\"Features with lowest idf:\\n{}\".format(\n",
    "       feature_names[sorted_by_idf[:10]]))\n",
    "print(\"\\nFeatures with highest idf:\\n{}\".format(\n",
    "       feature_names[sorted_by_idf[-10:]]))"
   ]
  },
  {
   "cell_type": "code",
   "execution_count": 37,
   "id": "8b8950d6",
   "metadata": {},
   "outputs": [],
   "source": [
    "count = nltk.FreqDist(df.body.values)\n"
   ]
  },
  {
   "cell_type": "code",
   "execution_count": 38,
   "id": "b3b52eff",
   "metadata": {},
   "outputs": [],
   "source": [
    "final_doc = df['body']\n",
    "all_documents = tuple(final_doc)"
   ]
  },
  {
   "cell_type": "code",
   "execution_count": 39,
   "id": "4b16af62",
   "metadata": {},
   "outputs": [],
   "source": [
    "from sklearn.feature_extraction.text import TfidfVectorizer\n",
    "tfidf_vectorizer = TfidfVectorizer()\n",
    "tfidf_matrix = tfidf_vectorizer.fit_transform(all_documents)\n",
    "#print (tfidf_matrix.shape)\n",
    "#print(tfidf_matrix)"
   ]
  },
  {
   "cell_type": "code",
   "execution_count": 40,
   "id": "5e9b7446",
   "metadata": {},
   "outputs": [
    {
     "name": "stdout",
     "output_type": "stream",
     "text": [
      "48549\n",
      "                                                body  index\n",
      "0  hi since recruiter lead permission approve req...      0\n",
      "1  icon dear please setup icon per icon engineers...      1\n",
      "2  work experience user hi work experience studen...      2\n",
      "3  requesting meeting hi please help follow equip...      3\n",
      "4  re expire days hi ask help update passwords co...      4\n"
     ]
    },
    {
     "name": "stderr",
     "output_type": "stream",
     "text": [
      "/home/ec2-user/anaconda3/envs/python3/lib/python3.6/site-packages/ipykernel/__main__.py:4: SettingWithCopyWarning: \n",
      "A value is trying to be set on a copy of a slice from a DataFrame.\n",
      "Try using .loc[row_indexer,col_indexer] = value instead\n",
      "\n",
      "See the caveats in the documentation: https://pandas.pydata.org/pandas-docs/stable/user_guide/indexing.html#returning-a-view-versus-a-copy\n"
     ]
    }
   ],
   "source": [
    "reindexed_data= df[\"body\"]\n",
    "\n",
    "data_text = df[['body']]\n",
    "data_text['index'] = data_text.index\n",
    "documents=data_text\n",
    "\n",
    "\n",
    "print(len(documents))\n",
    "print(documents[:5])\n",
    "\n"
   ]
  },
  {
   "cell_type": "code",
   "execution_count": 41,
   "id": "09b4b0aa",
   "metadata": {},
   "outputs": [
    {
     "name": "stdout",
     "output_type": "stream",
     "text": [
      "Collecting gensim\n",
      "  Downloading gensim-4.0.1-cp36-cp36m-manylinux1_x86_64.whl (23.9 MB)\n",
      "\u001b[K     |████████████████████████████████| 23.9 MB 18.4 MB/s eta 0:00:01\n",
      "\u001b[?25hRequirement already satisfied: scipy>=0.18.1 in /home/ec2-user/anaconda3/envs/python3/lib/python3.6/site-packages (from gensim) (1.5.3)\n",
      "Requirement already satisfied: numpy>=1.11.3 in /home/ec2-user/anaconda3/envs/python3/lib/python3.6/site-packages (from gensim) (1.19.5)\n",
      "Collecting smart-open>=1.8.1\n",
      "  Downloading smart_open-5.0.0-py3-none-any.whl (56 kB)\n",
      "\u001b[K     |████████████████████████████████| 56 kB 8.7 MB/s  eta 0:00:01\n",
      "\u001b[?25hRequirement already satisfied: dataclasses in /home/ec2-user/anaconda3/envs/python3/lib/python3.6/site-packages (from gensim) (0.7)\n",
      "\u001b[33mWARNING: Error parsing requirements for urllib3: [Errno 2] No such file or directory: '/home/ec2-user/anaconda3/envs/python3/lib/python3.6/site-packages/urllib3-1.26.4.dist-info/METADATA'\u001b[0m\n",
      "\u001b[33mWARNING: Error parsing requirements for lxml: [Errno 2] No such file or directory: '/home/ec2-user/anaconda3/envs/python3/lib/python3.6/site-packages/lxml-4.6.3.dist-info/METADATA'\u001b[0m\n",
      "Installing collected packages: smart-open, gensim\n",
      "Successfully installed gensim-4.0.1 smart-open-5.0.0\n",
      "Note: you may need to restart the kernel to use updated packages.\n"
     ]
    }
   ],
   "source": [
    "pip install gensim"
   ]
  },
  {
   "cell_type": "code",
   "execution_count": 42,
   "id": "df371cc8",
   "metadata": {},
   "outputs": [
    {
     "name": "stderr",
     "output_type": "stream",
     "text": [
      "/home/ec2-user/anaconda3/envs/python3/lib/python3.6/site-packages/gensim/similarities/__init__.py:15: UserWarning: The gensim.similarities.levenshtein submodule is disabled, because the optional Levenshtein package <https://pypi.org/project/python-Levenshtein/> is unavailable. Install Levenhstein (e.g. `pip install python-Levenshtein`) to suppress this warning.\n",
      "  warnings.warn(msg)\n"
     ]
    }
   ],
   "source": [
    "import gensim\n",
    "from gensim.utils import simple_preprocess\n",
    "from gensim.parsing.preprocessing import STOPWORDS\n",
    "from nltk.stem import WordNetLemmatizer, SnowballStemmer\n",
    "from nltk.stem.porter import *\n",
    "import numpy as np\n",
    "np.random.seed(2018)\n",
    "import nltk\n",
    "\n",
    "\n",
    "def lemmatize_stemming(text):\n",
    "    return stemmer.stem(WordNetLemmatizer().lemmatize(text, pos='v'))\n",
    "def preprocess(text):\n",
    "    result = []\n",
    "    for token in gensim.utils.simple_preprocess(text):\n",
    "        if token not in gensim.parsing.preprocessing.STOPWORDS and len(token) > 3:\n",
    "            result.append(lemmatize_stemming(token))\n",
    "    return result"
   ]
  },
  {
   "cell_type": "code",
   "execution_count": 43,
   "id": "4f5723a6",
   "metadata": {},
   "outputs": [
    {
     "name": "stderr",
     "output_type": "stream",
     "text": [
      "[nltk_data] Downloading package wordnet to /home/ec2-user/nltk_data...\n",
      "[nltk_data]   Unzipping corpora/wordnet.zip.\n"
     ]
    },
    {
     "name": "stdout",
     "output_type": "stream",
     "text": [
      "original document: \n",
      "['verification', 'warning', 'hi', 'has', 'got', 'attached', 'please', 'addresses', 'best', 'regards', 'monitoring', 'analyst', 'verification', 'warning']\n",
      "\n",
      "\n",
      " tokenized and lemmatized document: \n",
      "['verif', 'warn', 'attach', 'address', 'best', 'regard', 'monitor', 'analyst', 'verif', 'warn']\n"
     ]
    },
    {
     "data": {
      "text/plain": [
       "0    [recruit, lead, permiss, approv, requisit, mak...\n",
       "1    [icon, dear, setup, icon, icon, engin, detail,...\n",
       "2    [work, experi, user, work, experi, student, co...\n",
       "3    [request, meet, help, follow, equip, cabl, cor...\n",
       "4    [expir, day, help, updat, password, colleagu, ...\n",
       "Name: body, dtype: object"
      ]
     },
     "execution_count": 43,
     "metadata": {},
     "output_type": "execute_result"
    }
   ],
   "source": [
    "from nltk.stem.porter import *\n",
    "nltk.download('wordnet')\n",
    "\n",
    "stemmer = PorterStemmer()\n",
    "stemmer.stem('identified')\n",
    "\n",
    "\n",
    "doc_sample = documents[documents['index'] == 5].values[0][0]\n",
    "print('original document: ')\n",
    "words = []\n",
    "for word in doc_sample.split(' '):\n",
    "    words.append(word)\n",
    "print(words)\n",
    "print('\\n\\n tokenized and lemmatized document: ')\n",
    "print(preprocess(doc_sample))\n",
    "\n",
    "\n",
    "processed_docs = documents['body'].map(preprocess)\n",
    "processed_docs[:5]"
   ]
  },
  {
   "cell_type": "code",
   "execution_count": 44,
   "id": "fb48f116",
   "metadata": {},
   "outputs": [
    {
     "name": "stdout",
     "output_type": "stream",
     "text": [
      "0 approv\n",
      "1 lead\n",
      "2 make\n",
      "3 permiss\n",
      "4 recruit\n",
      "5 requisit\n",
      "6 thank\n",
      "7 dear\n",
      "8 detail\n",
      "9 engin\n",
      "10 icon\n"
     ]
    }
   ],
   "source": [
    "\n",
    "dictionary = gensim.corpora.Dictionary(processed_docs)\n",
    "count = 0\n",
    "for k, v in dictionary.iteritems():\n",
    "    print(k, v)\n",
    "    count += 1\n",
    "    if count > 10:\n",
    "        break"
   ]
  },
  {
   "cell_type": "code",
   "execution_count": 45,
   "id": "a6602a4a",
   "metadata": {},
   "outputs": [
    {
     "data": {
      "text/plain": [
       "[(0, 1),\n",
       " (7, 1),\n",
       " (18, 2),\n",
       " (26, 1),\n",
       " (28, 2),\n",
       " (29, 5),\n",
       " (35, 11),\n",
       " (56, 1),\n",
       " (59, 1),\n",
       " (71, 6),\n",
       " (84, 5),\n",
       " (85, 1),\n",
       " (89, 1),\n",
       " (91, 1),\n",
       " (92, 2),\n",
       " (99, 3),\n",
       " (107, 1),\n",
       " (109, 1),\n",
       " (124, 1),\n",
       " (136, 3),\n",
       " (143, 2),\n",
       " (145, 1),\n",
       " (149, 1),\n",
       " (150, 2),\n",
       " (156, 16),\n",
       " (158, 1),\n",
       " (163, 1),\n",
       " (190, 2),\n",
       " (202, 10),\n",
       " (203, 1),\n",
       " (215, 1),\n",
       " (235, 5),\n",
       " (253, 2),\n",
       " (263, 1),\n",
       " (278, 2),\n",
       " (280, 1),\n",
       " (282, 16),\n",
       " (287, 1),\n",
       " (293, 1),\n",
       " (313, 1),\n",
       " (318, 1),\n",
       " (319, 1),\n",
       " (324, 1),\n",
       " (340, 4),\n",
       " (345, 1),\n",
       " (357, 1),\n",
       " (365, 1),\n",
       " (373, 1),\n",
       " (376, 1),\n",
       " (383, 1),\n",
       " (442, 2),\n",
       " (458, 1),\n",
       " (464, 1),\n",
       " (509, 1),\n",
       " (571, 1),\n",
       " (585, 1),\n",
       " (657, 1),\n",
       " (716, 1),\n",
       " (721, 1),\n",
       " (739, 1),\n",
       " (740, 1),\n",
       " (741, 16),\n",
       " (742, 1),\n",
       " (743, 1),\n",
       " (744, 1),\n",
       " (745, 1),\n",
       " (746, 1)]"
      ]
     },
     "execution_count": 45,
     "metadata": {},
     "output_type": "execute_result"
    }
   ],
   "source": [
    "dictionary.filter_extremes(no_below=15, no_above=0.5, keep_n=100000)\n",
    "\n",
    "bow_corpus = [dictionary.doc2bow(doc) for doc in processed_docs]\n",
    "bow_corpus[123]"
   ]
  },
  {
   "cell_type": "code",
   "execution_count": 46,
   "id": "69b86d99",
   "metadata": {},
   "outputs": [
    {
     "name": "stdout",
     "output_type": "stream",
     "text": [
      "Word 0 (\"approv\") appears 1 time.\n",
      "Word 7 (\"detail\") appears 1 time.\n",
      "Word 18 (\"work\") appears 2 time.\n",
      "Word 26 (\"request\") appears 1 time.\n",
      "Word 28 (\"activ\") appears 2 time.\n",
      "Word 29 (\"best\") appears 5 time.\n",
      "Word 35 (\"close\") appears 11 time.\n",
      "Word 56 (\"issu\") appears 1 time.\n",
      "Word 59 (\"log\") appears 1 time.\n",
      "Word 71 (\"regard\") appears 6 time.\n",
      "Word 84 (\"analyst\") appears 5 time.\n",
      "Word 85 (\"attach\") appears 1 time.\n",
      "Word 89 (\"anymor\") appears 1 time.\n",
      "Word 91 (\"kind\") appears 1 time.\n",
      "Word 92 (\"look\") appears 2 time.\n",
      "Word 99 (\"card\") appears 3 time.\n",
      "Word 107 (\"error\") appears 1 time.\n",
      "Word 109 (\"friday\") appears 1 time.\n",
      "Word 124 (\"prod\") appears 1 time.\n",
      "Word 136 (\"tuesday\") appears 3 time.\n",
      "Word 143 (\"absenc\") appears 2 time.\n",
      "Word 145 (\"action\") appears 1 time.\n",
      "Word 149 (\"countri\") appears 1 time.\n",
      "Word 150 (\"date\") appears 2 time.\n",
      "Word 156 (\"leav\") appears 16 time.\n",
      "Word 158 (\"past\") appears 1 time.\n",
      "Word 163 (\"record\") appears 1 time.\n",
      "Word 190 (\"hello\") appears 2 time.\n",
      "Word 202 (\"assign\") appears 10 time.\n",
      "Word 203 (\"creat\") appears 1 time.\n",
      "Word 215 (\"link\") appears 1 time.\n",
      "Word 235 (\"imag\") appears 5 time.\n",
      "Word 253 (\"wednesday\") appears 2 time.\n",
      "Word 263 (\"summari\") appears 1 time.\n",
      "Word 278 (\"number\") appears 2 time.\n",
      "Word 280 (\"advis\") appears 1 time.\n",
      "Word 282 (\"annual\") appears 16 time.\n",
      "Word 287 (\"today\") appears 1 time.\n",
      "Word 293 (\"open\") appears 1 time.\n",
      "Word 313 (\"offic\") appears 1 time.\n",
      "Word 318 (\"code\") appears 1 time.\n",
      "Word 319 (\"correct\") appears 1 time.\n",
      "Word 324 (\"go\") appears 1 time.\n",
      "Word 340 (\"timecard\") appears 4 time.\n",
      "Word 345 (\"believ\") appears 1 time.\n",
      "Word 357 (\"think\") appears 1 time.\n",
      "Word 365 (\"locat\") appears 1 time.\n",
      "Word 373 (\"form\") appears 1 time.\n",
      "Word 376 (\"add\") appears 1 time.\n",
      "Word 383 (\"reason\") appears 1 time.\n",
      "Word 442 (\"thursday\") appears 2 time.\n",
      "Word 458 (\"background\") appears 1 time.\n",
      "Word 464 (\"review\") appears 1 time.\n",
      "Word 509 (\"moder\") appears 1 time.\n",
      "Word 571 (\"descript\") appears 1 time.\n",
      "Word 585 (\"insert\") appears 1 time.\n",
      "Word 657 (\"appropri\") appears 1 time.\n",
      "Word 716 (\"futur\") appears 1 time.\n",
      "Word 721 (\"visibl\") appears 1 time.\n",
      "Word 739 (\"case\") appears 1 time.\n",
      "Word 740 (\"center\") appears 1 time.\n",
      "Word 741 (\"cod\") appears 16 time.\n",
      "Word 742 (\"deal\") appears 1 time.\n",
      "Word 743 (\"doubl\") appears 1 time.\n",
      "Word 744 (\"face\") appears 1 time.\n",
      "Word 745 (\"prioriti\") appears 1 time.\n",
      "Word 746 (\"select\") appears 1 time.\n"
     ]
    }
   ],
   "source": [
    "# Preview Bag Of Words for our sample preprocessed document.\n",
    "bow_doc_123 = bow_corpus[123]\n",
    "for i in range(len(bow_doc_123)):\n",
    "    print(\"Word {} (\\\"{}\\\") appears {} time.\".format(bow_doc_123[i][0], \n",
    "                                               dictionary[bow_doc_123[i][0]], \n",
    "bow_doc_123[i][1]))"
   ]
  },
  {
   "cell_type": "code",
   "execution_count": 47,
   "id": "885e136b",
   "metadata": {},
   "outputs": [
    {
     "name": "stdout",
     "output_type": "stream",
     "text": [
      "[(0, 0.17292971048228067),\n",
      " (1, 0.1952915654258252),\n",
      " (2, 0.30632481285788143),\n",
      " (3, 0.24819355264410153),\n",
      " (4, 0.8199977068851184),\n",
      " (5, 0.3226845981181564)]\n"
     ]
    }
   ],
   "source": [
    "#TF-IDF\n",
    "from gensim import corpora, models\n",
    "tfidf = models.TfidfModel(bow_corpus)\n",
    "corpus_tfidf = tfidf[bow_corpus]\n",
    "from pprint import pprint\n",
    "for doc in corpus_tfidf:\n",
    "    pprint(doc)\n",
    "    break"
   ]
  },
  {
   "cell_type": "code",
   "execution_count": 48,
   "id": "2efdc1cb",
   "metadata": {},
   "outputs": [],
   "source": [
    "lda_model = gensim.models.LdaMulticore(bow_corpus, num_topics=5, id2word=dictionary, passes=2, workers=2)"
   ]
  },
  {
   "cell_type": "code",
   "execution_count": 49,
   "id": "97d2833e",
   "metadata": {},
   "outputs": [
    {
     "name": "stdout",
     "output_type": "stream",
     "text": [
      "[(0, '0.020*\"site\" + 0.019*\"inform\" + 0.013*\"confluenc\" + 0.011*\"messag\" + 0.011*\"juli\"'), (1, '0.031*\"hello\" + 0.027*\"regard\" + 0.026*\"form\" + 0.017*\"wednesday\" + 0.017*\"tuesday\"'), (2, '0.037*\"regard\" + 0.027*\"hello\" + 0.021*\"kind\" + 0.020*\"engin\" + 0.017*\"order\"'), (3, '0.049*\"send\" + 0.023*\"issu\" + 0.021*\"error\" + 0.016*\"regard\" + 0.014*\"hello\"'), (4, '0.016*\"card\" + 0.016*\"task\" + 0.015*\"detail\" + 0.013*\"request\" + 0.013*\"assign\"')]\n",
      "Topic: 0 \n",
      "Words: 0.020*\"site\" + 0.019*\"inform\" + 0.013*\"confluenc\" + 0.011*\"messag\" + 0.011*\"juli\" + 0.011*\"regard\" + 0.010*\"regist\" + 0.010*\"provid\" + 0.009*\"test\" + 0.009*\"content\"\n",
      "Topic: 1 \n",
      "Words: 0.031*\"hello\" + 0.027*\"regard\" + 0.026*\"form\" + 0.017*\"wednesday\" + 0.017*\"tuesday\" + 0.016*\"leaver\" + 0.016*\"chang\" + 0.014*\"approv\" + 0.014*\"thursday\" + 0.014*\"juli\"\n",
      "Topic: 2 \n",
      "Words: 0.037*\"regard\" + 0.027*\"hello\" + 0.021*\"kind\" + 0.020*\"engin\" + 0.017*\"order\" + 0.015*\"instal\" + 0.014*\"connect\" + 0.013*\"assign\" + 0.013*\"senior\" + 0.013*\"purchas\"\n",
      "Topic: 3 \n",
      "Words: 0.049*\"send\" + 0.023*\"issu\" + 0.021*\"error\" + 0.016*\"regard\" + 0.014*\"hello\" + 0.014*\"manag\" + 0.013*\"report\" + 0.012*\"submit\" + 0.012*\"help\" + 0.012*\"approv\"\n",
      "Topic: 4 \n",
      "Words: 0.016*\"card\" + 0.016*\"task\" + 0.015*\"detail\" + 0.013*\"request\" + 0.013*\"assign\" + 0.011*\"floor\" + 0.011*\"file\" + 0.011*\"access\" + 0.010*\"regard\" + 0.009*\"hello\"\n"
     ]
    }
   ],
   "source": [
    "# Print the results\n",
    " \n",
    "# Here we can assign topic names to each topic list, you can specify the number of words you want to have shown (e.g num_words = 5)\n",
    "result = lda_model.print_topics(num_topics=5, num_words=5)\n",
    "print(result)\n",
    "\n",
    "for idx, topic in lda_model.print_topics(-1):\n",
    "    print('Topic: {} \\nWords: {}'.format(idx, topic))"
   ]
  },
  {
   "cell_type": "code",
   "execution_count": 50,
   "id": "cfff538b",
   "metadata": {},
   "outputs": [],
   "source": [
    "# put these in a file and name the topics\n",
    "with open(\"lda_topics_result.txt\", \"w\") as f:\n",
    "    for s in result:\n",
    "        f.write(str(s) +\"\\n\")\n"
   ]
  },
  {
   "cell_type": "code",
   "execution_count": null,
   "id": "b208b07f",
   "metadata": {},
   "outputs": [],
   "source": [
    "pip install pyLDAvis"
   ]
  },
  {
   "cell_type": "code",
   "execution_count": 53,
   "id": "b2e6daaf",
   "metadata": {},
   "outputs": [
    {
     "data": {
      "text/html": [
       "\n",
       "<link rel=\"stylesheet\" type=\"text/css\" href=\"https://cdn.jsdelivr.net/gh/bmabey/pyLDAvis@3.2.2/pyLDAvis/js/ldavis.v1.0.0.css\">\n",
       "\n",
       "\n",
       "<div id=\"ldavis_el157801401409692366642189097561\"></div>\n",
       "<script type=\"text/javascript\">\n",
       "\n",
       "var ldavis_el157801401409692366642189097561_data = {\"mdsDat\": {\"x\": [-0.08697810008682368, 0.06819444806458223, 0.10093763715362118, 0.03482826733168704, -0.11698225246306677], \"y\": [-0.038442908674305165, -0.09785490765728451, -0.015799958758138662, 0.1496406251641755, 0.0024571499255529794], \"topics\": [1, 2, 3, 4, 5], \"cluster\": [1, 1, 1, 1, 1], \"Freq\": [28.507856456778768, 21.229436361129444, 20.737415239806086, 15.090069224914016, 14.43522271737168]}, \"tinfo\": {\"Term\": [\"send\", \"form\", \"leaver\", \"error\", \"site\", \"card\", \"instal\", \"starter\", \"task\", \"purchas\", \"upgrad\", \"confluenc\", \"order\", \"assign\", \"submit\", \"inform\", \"licens\", \"engin\", \"report\", \"detail\", \"floor\", \"regist\", \"content\", \"approv\", \"issu\", \"regard\", \"connect\", \"hello\", \"chang\", \"phone\", \"identif\", \"count\", \"fals\", \"journal\", \"fault\", \"paus\", \"recreat\", \"varianc\", \"randomli\", \"timecard\", \"ledger\", \"cascad\", \"outbox\", \"quota\", \"status\", \"spell\", \"breakdown\", \"raid\", \"resubmit\", \"reimburs\", \"pop\", \"previou\", \"claim\", \"payrol\", \"maximum\", \"compliant\", \"replica\", \"size\", \"magnifi\", \"disk\", \"submit\", \"expens\", \"sheet\", \"portal\", \"save\", \"error\", \"report\", \"transact\", \"correct\", \"send\", \"tri\", \"past\", \"longer\", \"enter\", \"fusion\", \"abl\", \"manag\", \"show\", \"issu\", \"get\", \"haven\", \"monday\", \"happen\", \"problem\", \"week\", \"direct\", \"line\", \"laptop\", \"appear\", \"follow\", \"know\", \"investig\", \"approv\", \"access\", \"delet\", \"help\", \"statu\", \"card\", \"check\", \"action\", \"leav\", \"updat\", \"chang\", \"need\", \"regard\", \"hello\", \"work\", \"day\", \"receiv\", \"friday\", \"wednesday\", \"tuesday\", \"kind\", \"thursday\", \"best\", \"dear\", \"nonrecover\", \"kernel\", \"charger\", \"spark\", \"jabber\", \"microphon\", \"wireless\", \"partit\", \"inspect\", \"backpack\", \"static\", \"shipment\", \"debug\", \"aforement\", \"retina\", \"camera\", \"consider\", \"mice\", \"outlet\", \"trunk\", \"gigabit\", \"thunderbolt\", \"retroact\", \"mandatori\", \"nope\", \"tent\", \"receipt\", \"cord\", \"virtual\", \"vital\", \"poll\", \"video\", \"slave\", \"reconnect\", \"upgrad\", \"purchas\", \"headset\", \"adaptor\", \"instal\", \"machin\", \"black\", \"azur\", \"technician\", \"cabl\", \"keyboard\", \"appl\", \"galaxi\", \"order\", \"port\", \"queue\", \"devic\", \"item\", \"adapt\", \"requisit\", \"engin\", \"guest\", \"room\", \"alloc\", \"supplier\", \"connect\", \"section\", \"senior\", \"assign\", \"regard\", \"kind\", \"user\", \"meet\", \"hello\", \"ticket\", \"administr\", \"best\", \"phone\", \"dear\", \"receiv\", \"work\", \"tuesday\", \"updat\", \"friday\", \"thursday\", \"issu\", \"request\", \"wednesday\", \"need\", \"help\", \"studio\", \"starter\", \"riser\", \"slack\", \"fuse\", \"vacanc\", \"cap\", \"leaver\", \"resign\", \"behav\", \"licens\", \"visual\", \"unplan\", \"height\", \"neck\", \"repositori\", \"ultima\", \"treasuri\", \"ticker\", \"token\", \"enclos\", \"school\", \"scienc\", \"pilot\", \"form\", \"contractor\", \"seat\", \"bucket\", \"bulk\", \"android\", \"roam\", \"expir\", \"intern\", \"fill\", \"transfer\", \"subscript\", \"ctrl\", \"mobil\", \"internship\", \"titl\", \"monitor\", \"contract\", \"offic\", \"complet\", \"profil\", \"date\", \"chang\", \"join\", \"import\", \"account\", \"hello\", \"wednesday\", \"decemb\", \"octob\", \"attach\", \"tuesday\", \"juli\", \"head\", \"analyst\", \"approv\", \"regard\", \"high\", \"thursday\", \"novemb\", \"februari\", \"help\", \"friday\", \"kind\", \"creat\", \"dear\", \"need\", \"best\", \"mime\", \"relianc\", \"unlaw\", \"encod\", \"undeliver\", \"suscept\", \"addresse\", \"binari\", \"diagnost\", \"sole\", \"express\", \"omit\", \"disclosur\", \"legal\", \"interfer\", \"banner\", \"hang\", \"misus\", \"necessarili\", \"prohibit\", \"suppress\", \"recipi\", \"intercept\", \"boundari\", \"leas\", \"hereinaft\", \"sonar\", \"strictli\", \"suspici\", \"suffix\", \"privileg\", \"english\", \"intend\", \"opinion\", \"dynam\", \"confidenti\", \"liabil\", \"languag\", \"kingdom\", \"virus\", \"contribut\", \"content\", \"regist\", \"subsidiari\", \"site\", \"group\", \"confluenc\", \"repres\", \"librari\", \"broad\", \"tool\", \"idea\", \"commun\", \"inform\", \"entiti\", \"street\", \"copi\", \"messag\", \"permiss\", \"test\", \"right\", \"provid\", \"server\", \"juli\", \"user\", \"access\", \"address\", \"regard\", \"attach\", \"work\", \"client\", \"receiv\", \"hello\", \"thursday\", \"help\", \"tuesday\", \"send\", \"friday\", \"tape\", \"newslett\", \"enclosur\", \"telephon\", \"tomcat\", \"quiz\", \"visitor\", \"asterisk\", \"pipelin\", \"unrespons\", \"score\", \"alert\", \"cooki\", \"malfunct\", \"satisfact\", \"occurr\", \"incom\", \"stateless\", \"fetch\", \"unidentifi\", \"tone\", \"hero\", \"game\", \"graph\", \"journey\", \"printer\", \"opportun\", \"gate\", \"baselin\", \"declin\", \"tray\", \"meal\", \"door\", \"complaint\", \"holder\", \"grind\", \"unknown\", \"task\", \"snow\", \"regular\", \"consol\", \"recoveri\", \"event\", \"templat\", \"withdraw\", \"floor\", \"assigne\", \"want\", \"card\", \"document\", \"review\", \"sourc\", \"lose\", \"detail\", \"file\", \"comment\", \"feedback\", \"descript\", \"open\", \"close\", \"assign\", \"request\", \"annual\", \"link\", \"accept\", \"locat\", \"view\", \"data\", \"access\", \"leav\", \"requir\", \"approv\", \"know\", \"regard\", \"action\", \"hello\", \"inform\", \"work\", \"tuesday\", \"send\", \"kind\"], \"Freq\": [21777.0, 7303.0, 4398.0, 8605.0, 4980.0, 5515.0, 4482.0, 3231.0, 3692.0, 3696.0, 3562.0, 3297.0, 5551.0, 6873.0, 4736.0, 8166.0, 2707.0, 7984.0, 5415.0, 6253.0, 3154.0, 2228.0, 2082.0, 9979.0, 12873.0, 26477.0, 6329.0, 23491.0, 8983.0, 4221.0, 173.72639820626853, 596.4983351702375, 198.37583458130342, 85.74469408562153, 110.83192033148869, 52.577402969317625, 129.13415044724155, 39.72081307280804, 37.62377546194693, 1171.7781043215546, 114.57758240212678, 130.22024244742727, 34.08633020653078, 35.136862421271616, 104.70329041367225, 26.842229748009057, 354.74510901462077, 30.75630528146027, 180.53517920278745, 81.20294929825197, 58.32409096897305, 293.72889394087383, 82.47493303429059, 49.72517757012829, 130.84416430528825, 120.64930412838744, 49.30718752989331, 491.5627636523755, 17.650745964032907, 1125.8974835180177, 4411.069749446335, 1185.503089927287, 705.7112968393094, 271.8740383513901, 743.869116716534, 7432.320792336148, 4577.362003291169, 142.4139715156148, 951.9142672505176, 17415.99107705152, 3420.8498347255495, 630.7704787698465, 443.820551390266, 1998.6721778022736, 431.4113901373049, 1656.3741688349844, 4924.691164359496, 818.3784018914389, 8348.522954896318, 1192.3558055518681, 510.7667295508457, 3141.483929056312, 908.6340416082622, 3535.2204250711657, 1825.2656479223306, 583.9173212066531, 989.7999138826656, 1573.6313296254136, 1077.9542123588699, 2389.412678980626, 1962.3961722652025, 1445.5909069874672, 4210.022551595558, 4155.703891669636, 1578.095906779685, 4347.581934732944, 1469.3885589329454, 2540.733816599346, 1964.9746732323758, 1919.3364763109291, 2593.5843956012563, 3130.5385033147913, 3119.5085091593874, 3028.627213597956, 5595.178630463318, 4926.392226249818, 3110.618129301479, 1915.578530093215, 2426.581332538547, 2547.1618517107313, 2429.30289785806, 2430.589975635361, 2225.982046445096, 2097.9961085955406, 2046.8517725527868, 2016.1917113700686, 95.23718064808342, 117.91284283142485, 251.86296662099252, 59.612970041859995, 128.42901676504084, 68.47402535807, 877.866634936847, 320.4475984766804, 47.14692389299455, 246.1469777774334, 53.25788037960506, 56.59110780386141, 276.8686539728034, 36.74938415975624, 62.9693160054595, 157.76764890267367, 704.90697861546, 40.806158857321186, 30.497948708935485, 40.67120477284462, 31.727505734690975, 33.54495780361697, 30.38908465842827, 760.7716998906764, 31.5786140180246, 26.12787774254482, 1260.3965038215922, 221.7219764828118, 596.6973414588045, 24.48073043173099, 599.9277139414509, 820.7073999189221, 287.6611224551843, 143.32682287941452, 3324.057640760895, 3448.033250526026, 141.94086177852338, 160.6769443900549, 4046.2935048128343, 1897.7871417933943, 276.2232640090676, 257.763810433916, 583.0356848877144, 1464.2017056588406, 484.5257218389163, 511.7132485669734, 415.19154213194054, 4417.355333578296, 1036.9195097168272, 1085.334709521708, 1794.0163264208782, 1874.8694817099972, 401.6152654692725, 1209.8513491146975, 5389.545235653688, 492.62769640681114, 1557.4134160012954, 1050.5588256267486, 631.4991131394079, 3631.191325325569, 1015.679515049721, 3482.892896342805, 3491.1603100408315, 9949.900714393278, 5520.575764848845, 2584.469990539022, 1797.3448982442608, 7197.622861336536, 2535.1803934358622, 2282.1422240265506, 3271.061111890325, 2043.3953568978147, 3102.1141868042682, 2702.9683422723174, 2762.751204796857, 2630.646830339505, 2302.5440394031775, 2407.3412805843773, 2423.0235535012876, 2548.091179762768, 2110.745169381897, 2335.996036875563, 1866.328877197122, 1838.9134632790926, 739.0246755906151, 3186.9546843239773, 67.19162468580477, 43.43956376070515, 34.19079372278747, 34.3838943492939, 335.94427136739705, 4287.409023549926, 35.51166340395428, 35.94259701395936, 2626.2935005804957, 783.5412352431775, 105.1198991570416, 71.4960825502196, 19.676198170391466, 1056.634470646582, 96.66595479237982, 18.347441248430037, 15.107300232355183, 314.02962600903095, 253.31056138191008, 111.75198967861859, 35.375825057436536, 258.3774981141254, 6751.481038017763, 518.6283602884326, 233.69707551410838, 23.73925555655517, 211.41932833627052, 435.4614029190489, 291.95647598498493, 1808.4578129065153, 1088.5967921094807, 771.3431538459275, 1353.3531380079933, 703.3624935422479, 366.55633975784497, 2373.2102710580207, 356.10390686848785, 426.3607124077262, 2051.7986739690896, 1140.4548988332463, 2996.758811585339, 2253.7968983356295, 822.2490776039365, 3519.023387441036, 4254.320908641815, 891.1056319547042, 2749.757298186333, 1678.705255307101, 8100.22097599567, 4497.582259022621, 2503.4334492218427, 3261.433580010662, 3338.1601721568595, 4353.870713734331, 3624.346592007231, 1395.3184868019089, 2638.4673883605105, 3709.553350934258, 7032.515068428813, 2231.3795059638383, 3672.7481724414884, 2516.0846442443963, 2144.3705049167424, 3149.7641100189694, 2899.0768996345346, 3258.8345290093916, 2341.926100333502, 2481.682049991831, 2415.1782945231885, 2280.5025181803735, 208.77895756840215, 300.3383646663949, 208.84555156833696, 135.81537755880996, 306.0045608222549, 237.1953759504082, 420.6733023273772, 94.27070738195368, 265.2234657203733, 538.4183062187268, 383.86378402931183, 243.03994494236053, 375.08934444308454, 464.38683358447446, 280.9470367511413, 77.27901938862802, 60.458466474344355, 74.11600344386731, 438.7942131219884, 392.44288711357166, 52.41123071337643, 1069.636675294055, 103.56762566544421, 55.751104486260225, 49.09429217062629, 75.86905012879973, 372.0543743178597, 365.0775525086832, 140.69949784894618, 83.34798096604646, 691.2815044748924, 483.87103038240036, 1323.6469367019276, 769.681552351629, 200.02816095325767, 986.0732590889303, 597.6641415150821, 318.86501007701537, 1215.9216868306573, 233.56331575004563, 421.5409042634257, 1800.7378530252079, 1857.3774765101, 792.4052564090863, 3770.892257366427, 1262.597113959979, 2476.702649047479, 532.6081068966179, 1050.481489569869, 820.167899089308, 1155.550322256095, 724.826346475922, 1402.4949403656715, 3696.9626994288537, 1073.5406628372268, 904.8541463102713, 849.2460552587763, 2079.808956039893, 1118.2866996715263, 1802.729966861849, 1433.8752893751307, 1856.6709741076033, 1232.9096813009046, 2079.6245895226375, 1447.6579250866434, 1797.3500740368281, 992.5141440643572, 2063.7918936842716, 1372.3354444935092, 1473.9896925029059, 1269.7933354633942, 1316.496806827826, 1666.2985671575116, 1342.285206130373, 1354.8517659559957, 1284.0645778326816, 1183.676124510853, 1093.0694473149497, 395.60480664202555, 172.53695892132043, 128.19602005897647, 208.26940311252403, 96.40216465348287, 200.52251110206217, 671.8191664932148, 88.73935104822523, 665.4653017488465, 49.8650318369823, 374.9074283181384, 965.5035971872014, 44.58416114372989, 58.45496642232363, 249.21376693443332, 37.230093428543995, 126.02224207621238, 41.41780204356407, 30.873023380102147, 31.42034491850924, 28.963643313804198, 29.122562395558305, 29.41014322911113, 55.31089635081475, 25.5154581174322, 990.4266876075751, 868.8993291201017, 46.69669983513423, 29.86178696984969, 626.0209356048861, 126.646567606955, 56.083908849895046, 479.1874158352805, 225.0793928873882, 87.73950774849176, 107.16637970324999, 248.70216655289255, 2849.7181759111722, 410.61421949819197, 467.41648142093555, 324.37141949508504, 329.66440264102476, 949.8241382583582, 514.9215420177306, 173.76575402324752, 2060.431575814293, 382.05214630521766, 1512.299783083066, 2895.5566899609275, 1527.2382349500388, 1237.3754153109182, 569.6453705306977, 734.7459922656102, 2808.7004391880932, 1978.6462641857331, 957.4539044381178, 705.8612729530172, 910.4041874338757, 1381.080769875928, 1072.0712620566135, 2315.070579068026, 2409.2737676057304, 1063.6775544940874, 1513.5800428857124, 889.6113904870718, 1498.4195258599514, 1037.8648493827154, 814.5895031821311, 1933.0800846180587, 1459.7742642365151, 1214.2608357302163, 1546.2442705792014, 1003.865268739335, 1836.313160592426, 1039.4386854185311, 1601.3854868067806, 1229.3189522826033, 1200.8656690140276, 1061.5486401897922, 1080.3372652271385, 1020.2066070915321], \"Total\": [21777.0, 7303.0, 4398.0, 8605.0, 4980.0, 5515.0, 4482.0, 3231.0, 3692.0, 3696.0, 3562.0, 3297.0, 5551.0, 6873.0, 4736.0, 8166.0, 2707.0, 7984.0, 5415.0, 6253.0, 3154.0, 2228.0, 2082.0, 9979.0, 12873.0, 26477.0, 6329.0, 23491.0, 8983.0, 4221.0, 174.76293431524908, 600.6656973316511, 200.2527705878432, 87.07590962006987, 112.6696590798816, 53.6423794463429, 132.1460241430915, 40.719877789857804, 38.68582434697943, 1205.5375461369467, 117.9103761091433, 134.0257313847039, 35.19605423686367, 36.32455265113657, 108.54906971519758, 27.82979204399535, 367.87350105081356, 31.934695126377157, 187.70571374576255, 84.43553557190499, 60.83114963064532, 306.5876262912555, 86.1224379854843, 51.93412498868514, 136.77028058426424, 126.1260003275137, 51.72602563063706, 518.5864003191713, 18.635022317386714, 1190.1819143979028, 4736.564319894912, 1271.7389819844855, 767.3594854112049, 290.5570819772344, 815.9667620840532, 8605.351448746249, 5415.031579636628, 151.76148666052623, 1077.2902419438226, 21777.20508162183, 4034.5095784398773, 708.5209824760735, 493.7340157151616, 2395.8032630415787, 488.7463260008468, 2058.895508702115, 6948.7477041050215, 993.50478760233, 12873.368725797085, 1519.0332103166722, 601.3749111013359, 4458.721603407304, 1134.8672069825066, 5137.453131615928, 2567.3592292326653, 696.9972615167044, 1283.3778033716071, 2201.7100459390263, 1427.1905236233747, 3772.6010944552486, 3277.375324843949, 2219.311562432393, 9979.373044336464, 9982.781853649945, 2563.6100327277513, 11412.29978209185, 2328.5969449127, 5515.238333014309, 3830.7044900481897, 3732.8576487658283, 6229.096198533556, 8599.70305812846, 8983.055245263056, 8548.953508156277, 26477.699467562106, 23491.920117546317, 10574.360263648112, 3836.0325918700128, 7616.560205389089, 9726.243409079922, 11099.988956715677, 11760.72073773167, 12615.422557739943, 10400.624807304119, 9039.635099807329, 9219.07518717209, 96.1529121749343, 119.2209271208012, 254.6588498097378, 60.46143140881569, 130.40265662281504, 69.59889552825217, 894.1307084888228, 326.79185657689436, 48.21707036452932, 251.83063426902396, 54.559999034561784, 57.98028175173853, 283.76188716882723, 37.69880817803721, 64.65377249248492, 162.17518306896878, 725.1895940110478, 41.98956955632374, 31.392559386234716, 41.86699224407345, 32.683417527069146, 34.61708497418699, 31.362877567549987, 785.938544912633, 32.654983686034555, 27.019909038856685, 1304.4945045376576, 229.61125926789552, 617.9752052022187, 25.369383653010594, 623.5484944671733, 862.2142365545362, 300.0205411622775, 148.697413333337, 3562.5360180518915, 3696.8720570928817, 147.9093963806371, 167.70161685171698, 4482.917451027629, 2072.6425621913463, 290.31282279141334, 270.6672455237026, 623.9869699206191, 1675.6121691150613, 532.9913184950665, 564.8523642900998, 456.45418667080327, 5551.967402374464, 1211.0740407606236, 1273.8741602097757, 2192.599933389336, 2364.5477136106833, 446.0615979907833, 1510.8186370354456, 7984.880617571269, 559.9892780578147, 2187.845358633809, 1385.7901056551325, 763.9477694784357, 6329.301382250238, 1364.7177476067498, 6346.75203710747, 6873.357940331963, 26477.699467562106, 12615.422557739943, 5207.654945207117, 3178.777945502993, 23491.920117546317, 5645.396599956012, 4977.256425034173, 9039.635099807329, 4221.130341184307, 9219.07518717209, 7616.560205389089, 10574.360263648112, 11760.72073773167, 8599.70305812846, 9726.243409079922, 10400.624807304119, 12873.368725797085, 7310.045336479819, 11099.988956715677, 8548.953508156277, 11412.29978209185, 746.4855205474677, 3231.817548936026, 68.19771963156553, 44.354790798776165, 34.95888041837224, 35.184594545481815, 344.24337587589474, 4398.455739754031, 36.46870699076122, 36.9358677239053, 2707.1443016881394, 812.5599949387489, 109.28020314906786, 74.79768842779887, 20.605178111962523, 1110.357014122025, 101.70220351456989, 19.317571594084438, 15.91891965930428, 334.7846425939409, 271.46312622522566, 119.88221016279694, 38.00680759874553, 278.676312725698, 7303.858293640264, 561.3526525824427, 253.4818716732471, 26.106787188916464, 236.10475387301398, 494.9090494933417, 333.08441876093065, 2160.617241889945, 1340.8294013234754, 945.139018207224, 1720.9789798345505, 876.2369104911071, 438.28305233101867, 3332.303633440404, 438.9482141014253, 539.9327279029449, 3235.761670232929, 1695.7454667469174, 5105.184963044534, 3796.8415708734087, 1203.1974363204506, 6739.56434522205, 8983.055245263056, 1350.8672200600192, 5661.083661075405, 3037.5737410320817, 23491.920117546317, 11099.988956715677, 5270.228164040606, 7659.427990805676, 8012.06728211767, 11760.72073773167, 9234.59619040688, 2480.868876752229, 6053.483087524418, 9979.373044336464, 26477.699467562106, 4819.4730080255395, 10400.624807304119, 6238.404464233563, 4770.055588329068, 11412.29978209185, 9726.243409079922, 12615.422557739943, 6456.250702777069, 9219.07518717209, 8548.953508156277, 9039.635099807329, 209.8185252972994, 302.3453995873191, 210.42437208492635, 136.88729870402167, 308.4271148737788, 239.375155059874, 424.5527927912938, 95.18424475469331, 267.81077175394773, 543.7892437751669, 387.72095300309286, 245.5980521442213, 379.25062521283587, 469.75566363933154, 284.3082134001767, 78.20694043591031, 61.355798161044945, 75.23073391338916, 445.74006275273456, 398.7104051627437, 53.24858410074561, 1086.8061385026674, 105.23020935979949, 56.70427072833463, 50.0603864004298, 77.46736501649715, 380.78491784984726, 374.08564709584704, 144.40364280038966, 85.55128322931294, 712.2290672719669, 497.4458642924416, 1374.9983777995967, 800.4799141299429, 205.31727239310018, 1044.18598763022, 628.1109592048746, 332.4278888431268, 1303.1307273648144, 242.6875764934834, 447.6859390720031, 2082.1567036691335, 2228.6449259061933, 899.4760706123559, 4980.089702360685, 1524.3464715203854, 3297.2076406486885, 601.7070496834489, 1316.5246225201977, 996.4942876359928, 1627.1276369159914, 922.5802962003775, 2169.2523581899586, 8166.182956180724, 1577.5301172387983, 1267.4432040138875, 1235.7113336437108, 4864.067725112701, 2072.019502255294, 4803.481621551704, 3598.0764076246255, 5848.658122853724, 3013.107851298792, 9234.59619040688, 5207.654945207117, 9982.781853649945, 2393.30723071888, 26477.699467562106, 8012.06728211767, 10574.360263648112, 6208.707446661809, 7616.560205389089, 23491.920117546317, 10400.624807304119, 11412.29978209185, 11760.72073773167, 21777.20508162183, 9726.243409079922, 397.98631037199704, 173.70048560108873, 129.06911473189186, 209.89860449503038, 97.26950112942455, 202.51172470834035, 679.0109093529026, 89.71794819241856, 674.1742819708422, 50.72900961953165, 382.12716834193765, 984.1711749239039, 45.481382177955346, 59.64787834642986, 254.57266573635061, 38.16387211969794, 129.36354279723247, 42.55254582852059, 31.769091819702055, 32.356108312161545, 29.863552278130484, 30.03944995534205, 30.345889022219392, 57.17781352381386, 26.377595316900397, 1026.2945781903998, 902.4888714292488, 48.53702550270075, 31.069701968573042, 651.6052502465391, 132.09941029320774, 58.40186472829811, 516.6494577675958, 240.14551217647073, 92.10979303909964, 112.9818111210511, 277.4078434780809, 3692.774348791001, 486.5182807233854, 562.6903495684073, 385.44306234383976, 398.1321112728077, 1259.667780444528, 653.3961975718596, 199.81350352722006, 3154.063035467037, 488.30069976625646, 2536.8111528834397, 5515.238333014309, 2614.668218321288, 2044.1032052824123, 812.8072117585316, 1124.7918346721522, 6253.517295185517, 3994.0116445956683, 1593.9379616229824, 1074.0846653366398, 1594.8711287287372, 3018.3797550437384, 2121.228593513777, 6873.357940331963, 7310.045336479819, 2228.4426352372466, 4284.439542918808, 1754.985009369408, 4516.991214659614, 2374.926203836596, 1640.9484769420474, 9982.781853649945, 6229.096198533556, 4887.401577054901, 9979.373044336464, 3277.375324843949, 26477.699467562106, 3732.8576487658283, 23491.920117546317, 8166.182956180724, 10574.360263648112, 11760.72073773167, 21777.20508162183, 12615.422557739943], \"Category\": [\"Default\", \"Default\", \"Default\", \"Default\", \"Default\", \"Default\", \"Default\", \"Default\", \"Default\", \"Default\", \"Default\", \"Default\", \"Default\", \"Default\", \"Default\", \"Default\", \"Default\", \"Default\", \"Default\", \"Default\", \"Default\", \"Default\", \"Default\", \"Default\", \"Default\", \"Default\", \"Default\", \"Default\", \"Default\", \"Default\", \"Topic1\", \"Topic1\", \"Topic1\", \"Topic1\", \"Topic1\", \"Topic1\", \"Topic1\", \"Topic1\", \"Topic1\", \"Topic1\", \"Topic1\", \"Topic1\", \"Topic1\", \"Topic1\", \"Topic1\", \"Topic1\", \"Topic1\", \"Topic1\", \"Topic1\", \"Topic1\", \"Topic1\", \"Topic1\", \"Topic1\", \"Topic1\", \"Topic1\", \"Topic1\", \"Topic1\", \"Topic1\", \"Topic1\", \"Topic1\", \"Topic1\", \"Topic1\", \"Topic1\", \"Topic1\", \"Topic1\", \"Topic1\", \"Topic1\", \"Topic1\", \"Topic1\", \"Topic1\", \"Topic1\", \"Topic1\", \"Topic1\", \"Topic1\", \"Topic1\", \"Topic1\", \"Topic1\", \"Topic1\", \"Topic1\", \"Topic1\", \"Topic1\", \"Topic1\", \"Topic1\", \"Topic1\", \"Topic1\", \"Topic1\", \"Topic1\", \"Topic1\", \"Topic1\", \"Topic1\", \"Topic1\", \"Topic1\", \"Topic1\", \"Topic1\", \"Topic1\", \"Topic1\", \"Topic1\", \"Topic1\", \"Topic1\", \"Topic1\", \"Topic1\", \"Topic1\", \"Topic1\", \"Topic1\", \"Topic1\", \"Topic1\", \"Topic1\", \"Topic1\", \"Topic1\", \"Topic1\", \"Topic1\", \"Topic1\", \"Topic1\", \"Topic1\", \"Topic1\", \"Topic1\", \"Topic2\", \"Topic2\", \"Topic2\", \"Topic2\", \"Topic2\", \"Topic2\", \"Topic2\", \"Topic2\", \"Topic2\", \"Topic2\", \"Topic2\", \"Topic2\", \"Topic2\", \"Topic2\", \"Topic2\", \"Topic2\", \"Topic2\", \"Topic2\", \"Topic2\", \"Topic2\", \"Topic2\", \"Topic2\", \"Topic2\", \"Topic2\", \"Topic2\", \"Topic2\", \"Topic2\", \"Topic2\", \"Topic2\", \"Topic2\", \"Topic2\", \"Topic2\", \"Topic2\", \"Topic2\", \"Topic2\", \"Topic2\", \"Topic2\", \"Topic2\", \"Topic2\", \"Topic2\", \"Topic2\", \"Topic2\", \"Topic2\", \"Topic2\", \"Topic2\", \"Topic2\", \"Topic2\", \"Topic2\", \"Topic2\", \"Topic2\", \"Topic2\", \"Topic2\", \"Topic2\", \"Topic2\", \"Topic2\", \"Topic2\", \"Topic2\", \"Topic2\", \"Topic2\", \"Topic2\", \"Topic2\", \"Topic2\", \"Topic2\", \"Topic2\", \"Topic2\", \"Topic2\", \"Topic2\", \"Topic2\", \"Topic2\", \"Topic2\", \"Topic2\", \"Topic2\", \"Topic2\", \"Topic2\", \"Topic2\", \"Topic2\", \"Topic2\", \"Topic2\", \"Topic2\", \"Topic2\", \"Topic2\", \"Topic2\", \"Topic2\", \"Topic2\", \"Topic3\", \"Topic3\", \"Topic3\", \"Topic3\", \"Topic3\", \"Topic3\", \"Topic3\", \"Topic3\", \"Topic3\", \"Topic3\", \"Topic3\", \"Topic3\", \"Topic3\", \"Topic3\", \"Topic3\", \"Topic3\", \"Topic3\", \"Topic3\", \"Topic3\", \"Topic3\", \"Topic3\", \"Topic3\", \"Topic3\", \"Topic3\", \"Topic3\", \"Topic3\", \"Topic3\", \"Topic3\", \"Topic3\", \"Topic3\", \"Topic3\", \"Topic3\", \"Topic3\", \"Topic3\", \"Topic3\", \"Topic3\", \"Topic3\", \"Topic3\", \"Topic3\", \"Topic3\", \"Topic3\", \"Topic3\", \"Topic3\", \"Topic3\", \"Topic3\", \"Topic3\", \"Topic3\", \"Topic3\", \"Topic3\", \"Topic3\", \"Topic3\", \"Topic3\", \"Topic3\", \"Topic3\", \"Topic3\", \"Topic3\", \"Topic3\", \"Topic3\", \"Topic3\", \"Topic3\", \"Topic3\", \"Topic3\", \"Topic3\", \"Topic3\", \"Topic3\", \"Topic3\", \"Topic3\", \"Topic3\", \"Topic3\", \"Topic3\", \"Topic3\", \"Topic3\", \"Topic4\", \"Topic4\", \"Topic4\", \"Topic4\", \"Topic4\", \"Topic4\", \"Topic4\", \"Topic4\", \"Topic4\", \"Topic4\", \"Topic4\", \"Topic4\", \"Topic4\", \"Topic4\", \"Topic4\", \"Topic4\", \"Topic4\", \"Topic4\", \"Topic4\", \"Topic4\", \"Topic4\", \"Topic4\", \"Topic4\", \"Topic4\", \"Topic4\", \"Topic4\", \"Topic4\", \"Topic4\", \"Topic4\", \"Topic4\", \"Topic4\", \"Topic4\", \"Topic4\", \"Topic4\", \"Topic4\", \"Topic4\", \"Topic4\", \"Topic4\", \"Topic4\", \"Topic4\", \"Topic4\", \"Topic4\", \"Topic4\", \"Topic4\", \"Topic4\", \"Topic4\", \"Topic4\", \"Topic4\", \"Topic4\", \"Topic4\", \"Topic4\", \"Topic4\", \"Topic4\", \"Topic4\", \"Topic4\", \"Topic4\", \"Topic4\", \"Topic4\", \"Topic4\", \"Topic4\", \"Topic4\", \"Topic4\", \"Topic4\", \"Topic4\", \"Topic4\", \"Topic4\", \"Topic4\", \"Topic4\", \"Topic4\", \"Topic4\", \"Topic4\", \"Topic4\", \"Topic4\", \"Topic4\", \"Topic4\", \"Topic4\", \"Topic4\", \"Topic4\", \"Topic5\", \"Topic5\", \"Topic5\", \"Topic5\", \"Topic5\", \"Topic5\", \"Topic5\", \"Topic5\", \"Topic5\", \"Topic5\", \"Topic5\", \"Topic5\", \"Topic5\", \"Topic5\", \"Topic5\", \"Topic5\", \"Topic5\", \"Topic5\", \"Topic5\", \"Topic5\", \"Topic5\", \"Topic5\", \"Topic5\", \"Topic5\", \"Topic5\", \"Topic5\", \"Topic5\", \"Topic5\", \"Topic5\", \"Topic5\", \"Topic5\", \"Topic5\", \"Topic5\", \"Topic5\", \"Topic5\", \"Topic5\", \"Topic5\", \"Topic5\", \"Topic5\", \"Topic5\", \"Topic5\", \"Topic5\", \"Topic5\", \"Topic5\", \"Topic5\", \"Topic5\", \"Topic5\", \"Topic5\", \"Topic5\", \"Topic5\", \"Topic5\", \"Topic5\", \"Topic5\", \"Topic5\", \"Topic5\", \"Topic5\", \"Topic5\", \"Topic5\", \"Topic5\", \"Topic5\", \"Topic5\", \"Topic5\", \"Topic5\", \"Topic5\", \"Topic5\", \"Topic5\", \"Topic5\", \"Topic5\", \"Topic5\", \"Topic5\", \"Topic5\", \"Topic5\", \"Topic5\", \"Topic5\", \"Topic5\", \"Topic5\", \"Topic5\", \"Topic5\", \"Topic5\", \"Topic5\", \"Topic5\"], \"logprob\": [30.0, 29.0, 28.0, 27.0, 26.0, 25.0, 24.0, 23.0, 22.0, 21.0, 20.0, 19.0, 18.0, 17.0, 16.0, 15.0, 14.0, 13.0, 12.0, 11.0, 10.0, 9.0, 8.0, 7.0, 6.0, 5.0, 4.0, 3.0, 2.0, 1.0, -7.6333, -6.3998, -7.5007, -8.3395, -8.0828, -8.8285, -7.93, -9.109, -9.1632, -5.7246, -8.0496, -7.9216, -9.2619, -9.2316, -8.1397, -9.5009, -6.9194, -9.3647, -7.5949, -8.3939, -8.7248, -7.1082, -8.3783, -8.8843, -7.9168, -7.9979, -8.8928, -6.5932, -9.9201, -5.7645, -4.399, -5.7129, -6.2316, -7.1855, -6.179, -3.8772, -4.362, -7.8321, -5.9324, -3.0257, -4.6532, -6.3439, -6.6954, -5.1906, -6.7238, -5.3784, -4.2888, -6.0835, -3.761, -5.7071, -6.5549, -4.7384, -5.9789, -4.6203, -5.2814, -6.4211, -5.8933, -5.4297, -5.808, -5.012, -5.2089, -5.5146, -4.4456, -4.4586, -5.4269, -4.4135, -5.4982, -4.9506, -5.2076, -5.2311, -4.93, -4.7419, -4.7454, -4.775, -4.1612, -4.2885, -4.7483, -5.2331, -4.9966, -4.9481, -4.9955, -4.9949, -5.0829, -5.1421, -5.1668, -5.1819, -7.9397, -7.7261, -6.9672, -8.4082, -7.6407, -8.2696, -5.7185, -6.7263, -8.6428, -6.9901, -8.5209, -8.4602, -6.8725, -8.8919, -8.3534, -7.4349, -5.938, -8.7872, -9.0784, -8.7905, -9.0389, -8.9832, -9.082, -5.8617, -9.0436, -9.233, -5.3569, -7.0946, -6.1046, -9.2982, -6.0992, -5.7859, -6.8343, -7.5309, -4.3871, -4.3505, -7.5406, -7.4166, -4.1905, -4.9476, -6.8748, -6.944, -6.1278, -5.207, -6.3129, -6.2583, -6.4673, -4.1027, -5.552, -5.5064, -5.0038, -4.9597, -6.5005, -5.3978, -3.9038, -6.2963, -5.1453, -5.539, -6.0479, -4.2987, -5.5727, -4.3404, -4.3381, -3.2907, -3.8798, -4.6388, -5.002, -3.6145, -4.658, -4.7632, -4.4032, -4.8737, -4.4562, -4.5939, -4.5721, -4.6211, -4.7543, -4.7098, -4.7033, -4.6529, -4.8412, -4.7398, -4.9643, -4.9791, -5.8673, -4.4058, -8.265, -8.7012, -8.9406, -8.935, -6.6556, -4.1092, -8.9027, -8.8907, -4.5993, -5.8088, -7.8175, -8.2029, -9.4932, -5.5097, -7.9013, -9.5631, -9.7574, -6.7231, -6.938, -7.7563, -8.9066, -6.9182, -3.6551, -6.2214, -7.0186, -9.3055, -7.1187, -6.3962, -6.796, -4.9724, -5.4799, -5.8245, -5.2623, -5.9167, -6.5684, -4.7006, -6.5974, -6.4173, -4.8461, -5.4334, -4.4673, -4.7522, -5.7605, -4.3067, -4.1169, -5.6801, -4.5533, -5.0468, -3.4729, -4.0613, -4.6472, -4.3827, -4.3594, -4.0938, -4.2772, -5.2317, -4.5946, -4.2539, -3.6143, -4.7622, -4.2639, -4.6421, -4.802, -4.4175, -4.5004, -4.3835, -4.7139, -4.6559, -4.6831, -4.7404, -6.8134, -6.4498, -6.8131, -7.2434, -6.4311, -6.6858, -6.1128, -7.6085, -6.5741, -5.8661, -6.2044, -6.6615, -6.2275, -6.014, -6.5165, -7.8073, -8.0527, -7.8491, -6.0707, -6.1823, -8.1956, -5.1796, -7.5145, -8.1338, -8.2609, -7.8257, -6.2356, -6.2546, -7.2081, -7.7317, -5.6161, -5.9729, -4.9665, -5.5087, -6.8562, -5.261, -5.7617, -6.3899, -5.0514, -6.7012, -6.1108, -4.6587, -4.6278, -5.4796, -3.9196, -5.0138, -4.34, -5.8769, -5.1977, -5.4452, -5.1024, -5.5688, -4.9087, -3.9394, -5.176, -5.3469, -5.4103, -4.5147, -5.1351, -4.6576, -4.8866, -4.6281, -5.0376, -4.5147, -4.877, -4.6606, -5.2544, -4.5224, -4.9304, -4.859, -5.0081, -4.972, -4.7363, -4.9526, -4.9432, -4.9969, -5.0783, -5.1579, -6.1299, -6.9597, -7.2568, -6.7715, -7.5418, -6.8094, -5.6003, -7.6246, -5.6098, -8.201, -6.1836, -5.2377, -8.3129, -8.0421, -6.592, -8.4932, -7.2739, -8.3866, -8.6804, -8.6629, -8.7443, -8.7388, -8.729, -8.0974, -8.871, -5.2122, -5.3431, -8.2666, -8.7137, -5.6709, -7.2689, -8.0835, -5.9382, -6.6939, -7.636, -7.4359, -6.5941, -4.1553, -6.0927, -5.9631, -6.3284, -6.3122, -5.254, -5.8663, -6.9526, -4.4797, -6.1648, -4.7889, -4.1394, -4.7791, -4.9896, -5.7653, -5.5108, -4.1698, -4.5202, -5.246, -5.5509, -5.2964, -4.8797, -5.133, -4.3631, -4.3232, -5.1408, -4.7881, -5.3195, -4.7982, -5.1654, -5.4076, -4.5435, -4.8243, -5.0084, -4.7667, -5.1987, -4.5948, -5.1639, -4.7317, -4.9961, -5.0195, -5.1428, -5.1253, -5.1826], \"loglift\": [30.0, 29.0, 28.0, 27.0, 26.0, 25.0, 24.0, 23.0, 22.0, 21.0, 20.0, 19.0, 18.0, 17.0, 16.0, 15.0, 14.0, 13.0, 12.0, 11.0, 10.0, 9.0, 8.0, 7.0, 6.0, 5.0, 4.0, 3.0, 2.0, 1.0, 1.249, 1.248, 1.2456, 1.2396, 1.2385, 1.2349, 1.2319, 1.2301, 1.2272, 1.2266, 1.2263, 1.2262, 1.223, 1.2217, 1.2189, 1.2189, 1.2187, 1.2174, 1.216, 1.216, 1.2129, 1.2121, 1.2117, 1.2115, 1.2107, 1.2106, 1.2071, 1.2015, 1.2007, 1.1995, 1.1838, 1.1848, 1.1712, 1.1885, 1.1625, 1.1084, 1.0869, 1.1914, 1.1313, 1.0315, 1.09, 1.1388, 1.1484, 1.0738, 1.1302, 1.0375, 0.9107, 1.0611, 0.8219, 1.0128, 1.0917, 0.9048, 1.0327, 0.8812, 0.9138, 1.078, 0.9952, 0.9191, 0.9743, 0.7983, 0.7421, 0.8263, 0.3919, 0.3786, 0.7698, 0.2899, 0.7946, 0.4799, 0.5874, 0.5898, 0.3788, 0.2445, 0.1973, 0.2173, -0.2994, -0.3071, 0.0314, 0.5606, 0.1111, -0.0849, -0.2643, -0.3216, -0.4797, -0.3459, -0.2303, -0.2651, 1.5402, 1.5387, 1.5387, 1.5356, 1.5345, 1.5335, 1.5314, 1.5302, 1.5273, 1.527, 1.5256, 1.5255, 1.5252, 1.5243, 1.5234, 1.5222, 1.5214, 1.5212, 1.5209, 1.5208, 1.5201, 1.5183, 1.5182, 1.5172, 1.5163, 1.5162, 1.5154, 1.5148, 1.5147, 1.5141, 1.5112, 1.5004, 1.5077, 1.513, 1.4805, 1.4801, 1.5086, 1.507, 1.4473, 1.4616, 1.5, 1.5009, 1.4819, 1.4149, 1.4544, 1.451, 1.455, 1.3212, 1.3945, 1.3896, 1.3492, 1.3177, 1.4448, 1.3276, 1.1567, 1.4216, 1.2099, 1.2728, 1.3594, 0.9942, 1.2544, 0.9497, 0.8724, 0.571, 0.7233, 0.8492, 0.9796, 0.3669, 0.7492, 0.77, 0.5333, 0.8243, 0.4606, 0.5138, 0.2076, 0.0522, 0.2321, 0.1535, 0.0929, -0.07, 0.3076, -0.0087, 0.0279, -0.2757, 1.5632, 1.5593, 1.5584, 1.5524, 1.551, 1.5502, 1.5488, 1.5477, 1.5466, 1.546, 1.5429, 1.5369, 1.5344, 1.5281, 1.5271, 1.5236, 1.5224, 1.5217, 1.5209, 1.5092, 1.504, 1.503, 1.5015, 1.4976, 1.4946, 1.4941, 1.492, 1.4782, 1.4628, 1.4453, 1.4414, 1.3953, 1.3648, 1.37, 1.3329, 1.3535, 1.3945, 1.2338, 1.3641, 1.3371, 1.1177, 1.1765, 1.0405, 1.0517, 1.1925, 0.9234, 0.8258, 1.1572, 0.8511, 0.9802, 0.5085, 0.6698, 0.8288, 0.7195, 0.6977, 0.5795, 0.6379, 0.9977, 0.7428, 0.5836, 0.2475, 0.8032, 0.5323, 0.6652, 0.7737, 0.2859, 0.3628, 0.2197, 0.5592, 0.2609, 0.3092, 0.196, 1.8862, 1.8845, 1.8836, 1.8833, 1.8832, 1.882, 1.882, 1.8815, 1.8814, 1.8812, 1.8811, 1.8807, 1.8801, 1.8796, 1.8792, 1.8792, 1.8764, 1.8762, 1.8754, 1.8753, 1.8753, 1.8752, 1.8752, 1.8742, 1.8716, 1.8703, 1.8679, 1.8668, 1.8651, 1.865, 1.8613, 1.8635, 1.8531, 1.8519, 1.865, 1.8339, 1.8414, 1.8495, 1.8219, 1.8528, 1.831, 1.7459, 1.7089, 1.7644, 1.613, 1.7027, 1.605, 1.7691, 1.6654, 1.6964, 1.5489, 1.6499, 1.455, 1.0986, 1.5062, 1.5542, 1.5161, 1.0415, 1.2744, 0.9111, 0.9711, 0.7437, 0.9975, 0.4004, 0.611, 0.1766, 1.0109, -0.6606, 0.1267, -0.0793, 0.304, 0.1358, -0.7549, -0.1564, -0.2399, -0.3236, -1.0211, -0.2947, 1.9295, 1.9288, 1.9287, 1.9277, 1.9265, 1.9256, 1.9249, 1.9245, 1.9225, 1.9183, 1.9164, 1.9163, 1.9156, 1.9153, 1.9142, 1.9107, 1.9093, 1.9085, 1.9069, 1.9062, 1.9049, 1.9045, 1.9042, 1.9023, 1.9023, 1.8999, 1.8976, 1.8968, 1.8958, 1.8954, 1.8933, 1.895, 1.8602, 1.8707, 1.8869, 1.8827, 1.8263, 1.6763, 1.7659, 1.75, 1.763, 1.7468, 1.6532, 1.6973, 1.7958, 1.5097, 1.6901, 1.4182, 1.2912, 1.3978, 1.4335, 1.58, 1.5097, 1.1351, 1.2331, 1.4258, 1.5157, 1.3748, 1.1536, 1.2531, 0.8473, 0.8256, 1.1959, 0.895, 1.2561, 0.8321, 1.1077, 1.2352, 0.2938, 0.4845, 0.543, 0.0708, 0.7523, -0.733, 0.657, -0.7503, 0.042, -0.2399, -0.4695, -1.0681, -0.5794]}, \"token.table\": {\"Topic\": [1, 2, 3, 4, 5, 1, 2, 3, 4, 5, 1, 2, 3, 4, 5, 1, 2, 3, 4, 5, 1, 2, 3, 4, 5, 1, 2, 3, 4, 5, 1, 2, 4, 1, 2, 3, 4, 5, 2, 3, 4, 5, 1, 2, 3, 4, 5, 2, 1, 2, 3, 4, 5, 1, 2, 3, 4, 5, 1, 2, 3, 4, 5, 1, 2, 3, 4, 5, 1, 2, 3, 4, 5, 1, 2, 3, 4, 5, 1, 2, 3, 4, 1, 2, 3, 4, 5, 1, 2, 3, 4, 5, 1, 2, 3, 4, 5, 5, 1, 2, 3, 4, 5, 2, 5, 1, 2, 3, 4, 4, 5, 3, 1, 2, 3, 4, 5, 4, 1, 2, 3, 4, 5, 4, 1, 2, 4, 5, 1, 2, 3, 4, 5, 1, 3, 5, 1, 2, 3, 4, 5, 1, 2, 3, 4, 5, 2, 4, 5, 1, 2, 3, 5, 1, 2, 3, 4, 5, 1, 4, 5, 1, 2, 3, 4, 5, 2, 3, 5, 1, 2, 3, 4, 5, 1, 2, 4, 1, 2, 3, 4, 5, 1, 2, 3, 4, 5, 1, 2, 3, 4, 5, 1, 2, 3, 4, 5, 1, 2, 4, 5, 1, 2, 3, 4, 5, 1, 2, 1, 2, 3, 4, 5, 1, 2, 3, 4, 5, 1, 2, 3, 4, 5, 1, 2, 3, 4, 5, 1, 2, 3, 4, 5, 1, 2, 3, 4, 5, 1, 2, 3, 4, 5, 1, 2, 3, 4, 5, 1, 2, 3, 4, 5, 5, 1, 2, 3, 4, 5, 1, 2, 3, 1, 2, 3, 4, 5, 1, 2, 4, 1, 2, 3, 4, 5, 1, 2, 3, 4, 5, 1, 2, 3, 4, 5, 1, 2, 3, 4, 5, 1, 2, 3, 4, 5, 1, 2, 3, 4, 5, 1, 2, 5, 1, 2, 3, 4, 5, 2, 3, 4, 5, 1, 2, 3, 4, 5, 1, 2, 3, 4, 5, 1, 2, 3, 4, 5, 1, 2, 3, 4, 5, 1, 2, 3, 4, 1, 2, 3, 4, 5, 2, 3, 4, 5, 1, 2, 3, 4, 5, 1, 2, 3, 4, 5, 1, 3, 4, 5, 1, 2, 3, 4, 5, 1, 2, 3, 4, 5, 5, 3, 4, 1, 2, 3, 4, 5, 1, 2, 3, 4, 5, 1, 2, 3, 4, 5, 1, 2, 3, 4, 5, 1, 2, 3, 4, 5, 1, 2, 3, 4, 5, 1, 2, 3, 4, 5, 1, 2, 3, 4, 5, 2, 3, 4, 5, 1, 2, 3, 1, 2, 5, 1, 2, 3, 4, 5, 1, 2, 3, 4, 5, 5, 1, 2, 3, 4, 5, 1, 2, 3, 4, 5, 1, 2, 3, 4, 5, 1, 2, 3, 4, 5, 1, 2, 3, 4, 5, 1, 2, 3, 4, 5, 3, 1, 2, 3, 4, 5, 1, 2, 3, 4, 5, 5, 2, 3, 5, 1, 2, 3, 4, 5, 2, 2, 5, 2, 3, 4, 5, 1, 2, 3, 4, 5, 1, 2, 3, 4, 5, 4, 1, 2, 3, 4, 5, 1, 2, 3, 4, 5, 1, 2, 3, 4, 5, 2, 3, 4, 1, 2, 3, 1, 2, 3, 4, 5, 1, 2, 3, 4, 5, 4, 5, 5, 1, 2, 3, 4, 5, 2, 5, 1, 2, 3, 4, 5, 1, 1, 2, 3, 4, 5, 1, 3, 5, 1, 2, 3, 4, 5, 2, 1, 2, 3, 4, 5, 1, 2, 3, 4, 5, 3, 4, 1, 2, 3, 4, 5, 1, 2, 3, 4, 5, 1, 2, 3, 4, 5, 1, 2, 3, 4, 5, 1, 2, 3, 4, 5, 1, 2, 3, 4, 5, 2, 4, 1, 2, 3, 4, 5, 1, 2, 5, 1, 2, 3, 4, 5, 2, 1, 2, 3, 4, 5, 1, 2, 3, 4, 5, 1, 2, 3, 4, 5, 1, 2, 3, 4, 5, 1, 2, 3, 4, 5, 1, 2, 3, 4, 5, 4, 1, 2, 3, 4, 5, 1, 2, 3, 4, 5, 1, 2, 3, 4, 2, 3, 4, 5, 1, 2, 3, 4, 5, 1, 2, 3, 4, 5, 1, 2, 3, 4, 5, 1, 2, 3, 4, 5, 1, 2, 3, 4, 5, 1, 2, 3, 4, 5, 1, 2, 3, 4, 5, 1, 2, 3, 4, 5, 1, 2, 3, 4, 5, 1, 5, 1, 2, 3, 4, 5, 1, 2, 3, 4, 5, 1, 2, 3, 4, 1, 2, 5, 1, 2, 3, 4, 5, 1, 2, 3, 4, 5, 2, 2, 4, 4, 1, 2, 3, 4, 5, 1, 2, 3, 4, 5, 1, 2, 3, 4, 5, 1, 2, 3, 4, 5, 3, 1, 2, 3, 4, 5, 3, 5, 2, 2, 1, 2, 3, 4, 5, 5, 1, 2, 3, 4, 5, 1, 2, 3, 4, 5, 2, 3, 4, 5, 1, 2, 3, 4, 5, 1, 2, 3, 4, 5, 1, 2, 3, 4, 5, 1, 2, 3, 4, 5, 1, 2, 1, 2, 3, 1, 2, 3, 4, 5, 1, 1, 3, 4, 1, 2, 3, 4, 5, 1, 2, 3, 4, 5, 1, 2, 3, 4, 1, 2, 3, 4, 5, 1, 2, 3, 4, 5, 1, 3, 4, 1, 2, 3, 4, 5, 1, 2, 3, 5, 1, 2, 3, 4, 5, 1, 2, 4, 5, 1, 2, 3, 4, 5, 1, 2, 3, 4, 5, 1, 2, 3, 4, 5, 1, 2, 3, 4, 5, 1, 2, 3, 4, 5, 1, 2, 3, 4, 5, 1, 2, 3, 4, 5, 2, 4, 5, 1, 1, 1, 1, 2, 3, 4, 5, 1, 2, 3, 4, 5, 1, 2, 3, 4, 5, 1, 2, 1, 2, 3, 4, 5, 1, 4, 5, 1, 2, 3, 4, 5, 1, 2, 3, 4, 5, 1, 2, 3, 4, 5, 1, 5, 3, 4, 5, 1, 5, 1, 2, 3, 4, 5, 1, 2, 3, 4, 5, 1, 2, 3, 4, 5, 1, 2, 3, 4, 5, 1, 2, 3, 4, 5, 1, 2, 3, 4, 5, 3, 1, 2, 3, 4, 5, 2, 3, 2, 1, 2, 3, 4, 5, 1, 2, 3, 4, 5, 3, 1, 2, 3, 4, 5, 1, 2, 3, 4, 5, 1, 4, 5, 1, 2, 3, 4, 5, 2, 3, 4, 1, 2, 3, 4, 5, 1, 2, 4, 5, 1, 2, 3, 4, 5, 1, 2, 3, 4, 5, 1, 2, 3, 4, 5, 1, 2, 3, 4, 5, 1, 2, 3, 4, 5, 1, 2, 3, 4, 5, 2, 1, 2, 3, 4, 5, 1, 2, 3, 4, 5, 1, 2, 3, 4, 5, 3, 1, 2, 3, 5, 1, 2, 3, 4, 5, 2, 3, 4, 5, 2, 3, 4, 1, 2, 3, 4, 5, 2, 1, 1, 2, 3, 4, 5, 5, 2, 4, 1, 2, 3, 4, 5, 1, 2, 4, 5, 1, 2, 3, 4, 5, 1, 2, 3, 4, 5, 1, 2, 3, 1, 2, 3, 4, 5, 1, 2, 3, 4, 5, 1, 2, 3, 4, 5, 1, 3, 4, 1, 2, 3, 4, 5, 4, 2, 3, 4, 5, 2, 4, 5, 2, 3, 5, 1, 2, 3, 4, 5, 1, 2, 3, 4, 5, 4, 5, 1, 2, 3, 4, 5, 2, 1, 2, 3, 4, 5, 2, 3, 1, 2, 3, 4, 5, 3, 1, 2, 3, 4, 5, 1, 2, 3, 4, 5, 1, 2, 3, 4, 5, 1, 2, 3, 4, 5, 5, 5, 1, 2, 3, 4, 5, 1, 2, 3, 4, 5, 1, 2, 3, 4, 5, 1, 2, 3, 4, 5, 3, 1, 2, 3, 4, 5, 2, 1, 2, 3, 4, 5, 2, 3, 4, 5, 1, 4, 5, 1, 2, 3, 4, 5, 3, 4, 2, 3, 4, 5, 5, 1, 2, 3, 4, 5, 1, 2, 3, 4, 5, 1, 2, 3, 4, 5, 3, 1, 1, 2, 3, 4, 5, 1, 2, 3, 4, 5, 1, 2, 3, 4, 5, 2, 3, 4, 5, 1, 2, 3, 4, 5, 1, 2, 3, 4, 2, 1, 2, 3, 4, 5, 1, 2, 3, 4, 5, 1, 2, 3, 4, 5, 1, 2, 3, 4, 5, 1, 2, 3, 4, 5, 1, 2, 3, 4, 5], \"Freq\": [0.8043147371980562, 0.05196961164262803, 0.01894219489778031, 0.037398692490489334, 0.08693981760776091, 0.0011396108737809843, 0.010256497864028859, 0.02393182834940067, 0.4581235712599557, 0.507126838832538, 0.4163168203941536, 0.09095661042297677, 0.11910507686444866, 0.18000994375560492, 0.19363340082336356, 0.23966496357472664, 0.10271355581773998, 0.5527437827499534, 0.08197331858531172, 0.02271549792123096, 0.514083359335834, 0.06295444994472173, 0.023038649767004548, 0.12135474819131466, 0.2783390361385782, 0.008967371363097366, 0.9012208219912854, 0.004483685681548683, 0.0807063422678763, 0.004483685681548683, 0.005962971727840927, 0.9600384481823894, 0.035777830367045564, 0.40780389056311755, 0.10738278675688648, 0.02339858388476904, 0.41490703209956525, 0.04679716776953808, 0.002355419672133898, 0.002355419672133898, 0.991631681968371, 0.002355419672133898, 0.056456805919552495, 0.4584855199587858, 0.3465764776200287, 0.08317835462880688, 0.055251322519135004, 0.9814633880536222, 0.00914475065853852, 0.005080417032521401, 0.0010160834065042802, 0.0030482502195128404, 0.9815365706831346, 0.04329660008045374, 0.7584121114092812, 0.15947581029633792, 0.020926690038885972, 0.01804025003352239, 0.1941031275732065, 0.21822147363762193, 0.4357821706707393, 0.06839037856621914, 0.08342304631869726, 0.0101028663854878, 0.07476121125260973, 0.8789493755374387, 0.02222630604807316, 0.012123439662585361, 0.4487438824708795, 0.004936182707179675, 0.05519549754391818, 0.013911060356597265, 0.4774634909490158, 0.7553301273772165, 0.03153047841556099, 0.042741315185538226, 0.03713589680054961, 0.1338293639416033, 0.001770374106970038, 0.9064315427686594, 0.08143720892062174, 0.010622244641820228, 0.4218701897700154, 0.01362811064340192, 0.37176684181633185, 0.03787813105298475, 0.1549195518727895, 0.06794350069559237, 0.5079031283261519, 0.06270588608094284, 0.02473318012473384, 0.3368077175809343, 0.00819167370006791, 0.20069600565166382, 0.004095836850033955, 0.004095836850033955, 0.7823048383564855, 0.9919977194431735, 0.1854702347940387, 0.135670353446245, 0.4166215637567303, 0.17124169726609767, 0.0908629414065008, 0.9531999318972146, 0.044334880553358824, 0.003970922770784617, 0.9768470016130156, 0.003970922770784617, 0.015883691083138467, 0.984567348764917, 0.9655708970219591, 0.9746623598800795, 0.22644719365316304, 0.36185088932071147, 0.25233319429548845, 0.09347722454173071, 0.06593186488387161, 0.9875583952181863, 0.010333680652319887, 0.9506986200134296, 0.006889120434879925, 0.01377824086975985, 0.017222801087199813, 0.9875799349980404, 0.9650056309735793, 0.002718325721052336, 0.010873302884209344, 0.02174660576841869, 0.021073878958020726, 0.03813368573356131, 0.11239402110944387, 0.8228847974084282, 0.006021108273720207, 0.03830421540435838, 0.9193011697046011, 0.03830421540435838, 0.04658948970555762, 0.008470816310101385, 0.8936711207156961, 0.050824897860608315, 0.004235408155050692, 0.09250350579744233, 0.8737105321771328, 0.0017903904347892066, 0.012532733043524445, 0.01969429478268127, 0.9742551049429481, 0.012332343100543647, 0.012332343100543647, 0.011619686188070803, 0.008714764641053103, 0.9760536397979475, 0.0029049215470177006, 0.46072351665920425, 0.0019944740980917934, 0.0048955273316798565, 0.007433948911069411, 0.5250906352794394, 0.9699629963357667, 0.014922507635934872, 0.007461253817967436, 0.3473205846802777, 0.027607533654073355, 0.47355825872753243, 0.06044714021839448, 0.09106033277835486, 0.989559169800208, 0.0039268221023817775, 0.0039268221023817775, 0.5129604763575174, 0.08771232572830831, 0.04072357980242886, 0.1461872095471805, 0.21275459960884308, 0.9521328229679341, 0.02322275177970571, 0.011611375889852855, 0.19875312383473245, 0.22967743483657088, 0.2612460023176143, 0.20455143214757715, 0.10565806258961466, 0.2361838801965716, 0.14048462335045578, 0.06835661203293988, 0.049499615610059916, 0.5053675041331832, 0.019448686678140925, 0.06336507595136237, 0.1568442474043623, 0.1593537553628321, 0.600399779063899, 0.08297789757858944, 0.031347205751911564, 0.16918271339634625, 0.6463056244732355, 0.07007022462191997, 0.012492425833031819, 0.008328283888687879, 0.041641419443439395, 0.9369319374773863, 0.07690602690404846, 0.05425562171997939, 0.5936513172661824, 0.015802608267955164, 0.2594261523989306, 0.9593580997240623, 0.03964289668281249, 0.003830735182606692, 0.003830735182606692, 0.029688197665201862, 0.9442762225125495, 0.018195992117381786, 0.0015164346759236268, 0.015164346759236268, 0.23171121848113016, 0.7512417384525647, 0.00030328693518472534, 0.2485266390397033, 0.5736810084889782, 0.008847737944197956, 0.11502059327457342, 0.05403439958778037, 0.013789497370873273, 0.9721595646465657, 0.004136849211261982, 0.006894748685436636, 0.004136849211261982, 0.05188833826293837, 0.08302134122070139, 0.007783250739440755, 0.01556650147888151, 0.8405910798596016, 0.009605424973421267, 0.0033618987406974434, 0.04754685361843527, 0.8649685188565851, 0.07444204354401482, 0.2582934812971961, 0.01474277861285366, 0.6722707047461268, 0.0076662448786839026, 0.046587180416617566, 0.03206540472765726, 0.03028399335389852, 0.9245525029807842, 0.007125645495034946, 0.005344234121276209, 0.006701126254308153, 0.0022337087514360506, 0.015635961260052355, 0.9426250931060134, 0.03573934002297681, 0.9894158410561966, 0.11815057127419354, 0.023468264157202826, 0.07202329344796729, 0.6870536644643173, 0.09872855955788776, 0.03048630987138507, 0.9668515416353551, 0.004355187124483581, 0.8836987126906919, 0.03341717821099255, 0.02042160890671767, 0.01949335395641232, 0.04269972771404604, 0.9922324558362869, 0.0016648195567722935, 0.00499445867031688, 0.09401741474179544, 0.2645498259950356, 0.36274923447328655, 0.15938042795602556, 0.11926426581743409, 0.01597141382211869, 0.10039174402474604, 0.8373584103882227, 0.0410693498283052, 0.006844891638050866, 0.47289723650927623, 0.012797476761204641, 0.0042658255870682135, 0.0134068804165001, 0.4966639790657991, 0.21440554997066227, 0.06899555760301589, 0.5221405746344363, 0.08323980175331594, 0.11128315742421917, 0.4994743798738103, 0.011209498086938332, 0.2260147637529194, 0.03701741228709868, 0.22653613575696305, 0.21867703203084507, 0.336476266547461, 0.26922440153797494, 0.10456580301474933, 0.07104834126002159, 0.017620407200862727, 0.976170558927795, 0.0035240814401725456, 0.2028375179833606, 0.13585749567454275, 0.4749319995438275, 0.08310835629252754, 0.10303159239005127, 0.004604014468675522, 0.009208028937351044, 0.026089415322494623, 0.9607043524636255, 0.615538237038714, 0.01053202306720233, 0.10493015574360841, 0.25198840375602616, 0.017163296850255652, 0.08966241687125184, 0.26898725061375556, 0.043263683665149495, 0.027588435960385183, 0.5705790164534208, 0.1101779954347372, 0.1714235284557885, 0.19684921970995864, 0.07243923357320167, 0.4491872121570055, 0.015962784394459393, 0.8182067201045758, 0.019611420827478684, 0.03603028477606549, 0.11037125209883353, 0.0037339797553727757, 0.0037339797553727757, 0.0037339797553727757, 0.9895046351737855, 0.8378799060547009, 0.040172324262896617, 0.025825065597576396, 0.02295561386451235, 0.07460574505966514, 0.002636778777724622, 0.005273557555449244, 0.9887920416467332, 0.002636778777724622, 0.9460738618008898, 0.052092876937526796, 0.0008402076925407547, 0.0008402076925407547, 0.0008402076925407547, 0.03595102405013796, 0.23062199470460842, 0.0780213713428526, 0.07151959039761488, 0.5840129119634114, 0.015484386714673833, 0.02322658007201075, 0.032904321768681896, 0.9271276545410958, 0.009741021671916636, 0.009741021671916636, 0.004870510835958318, 0.9741021671916635, 0.004870510835958318, 0.04788864027600658, 0.0036837415596928137, 0.9319866146022819, 0.011051224679078441, 0.0073674831193856274, 0.991716726855122, 0.007305279667781336, 0.9935180348182617, 0.10682689458411136, 0.6750257465514188, 0.08365810736481406, 0.06199216039757928, 0.07263727884968885, 0.014071882997673885, 0.0060308069990030935, 0.0060308069990030935, 0.9729701958391658, 0.002010268999667698, 0.8343756897059155, 0.00793053431936588, 0.00918272394873944, 0.05175717134744048, 0.09725339454801316, 0.08938022701385685, 0.14326192414986985, 0.08050559454439589, 0.6808110908715054, 0.006339023192472116, 0.8636486312343234, 0.008018266355646975, 0.006739992009094559, 0.0886657569472267, 0.03288651273403034, 0.20799134824861681, 0.0198465026954787, 0.007144740970372333, 0.011114041509468073, 0.7541671024281907, 0.9325813054415506, 0.00393162439056303, 0.0031452995124504235, 0.0007863248781126059, 0.06054701561467065, 0.03193531860351351, 0.04859722396186838, 0.8367979135529335, 0.055539684527849575, 0.026844180855127294, 0.0025791745126346652, 0.0025791745126346652, 0.9904030128517115, 0.0025791745126346652, 0.9887503649451133, 0.004993688711844006, 0.004993688711844006, 0.9851809343037257, 0.008875503912646177, 0.008875503912646177, 0.167293647887977, 0.14570060812298746, 0.44947065297220884, 0.04339572069274591, 0.19412771672213872, 0.17130865558194214, 0.06517177114530408, 0.04841331570794017, 0.05772356872869789, 0.6573038632654954, 0.9757911927710476, 0.1614917675247029, 0.05808696134221872, 0.1760135078602576, 0.1089130525166601, 0.49549179524246056, 0.12908154001663616, 0.012696544919669131, 0.8157530110887417, 0.016928726559558842, 0.025393089839338263, 0.03265629089900174, 0.038363215522128256, 0.177548766052825, 0.09828592406495669, 0.6531258179800348, 0.6332500946127632, 0.07740017899829503, 0.03419391469445226, 0.0670624838581118, 0.18793399626640817, 0.002464450880115412, 0.02218005792103871, 0.9243059939810637, 0.01245916833836125, 0.03847281651735727, 0.26186883186804183, 0.2474747853578236, 0.2980595773794477, 0.1123763773976324, 0.08019540198550162, 0.9725711920148247, 0.8818480611949464, 0.006138153558201484, 0.07979599625661929, 0.004092102372134322, 0.026598665418873093, 0.02409880404478193, 0.909182152598591, 0.03943440661873407, 0.019717203309367035, 0.006572401103122344, 0.9556483904217166, 0.020602828245920364, 0.020602828245920364, 0.9683329275582571, 0.7847096376197754, 0.04344868798901441, 0.044765314897772426, 0.0750477337992067, 0.051348449441562485, 0.9790897776677385, 0.01748930115320888, 0.9619115634264883, 0.01770196441493718, 0.00885098220746859, 0.026552946622405767, 0.9470550961991391, 0.03542501721812648, 0.08462643002107993, 0.047233356290835304, 0.828551791601736, 0.003936113024236276, 0.008928742381177855, 0.8803739987841365, 0.012500239333648997, 0.026786227143533566, 0.07142993904942284, 0.9779026888789503, 0.8009747699177387, 0.03172177306604906, 0.023791329799536794, 0.029959452340157445, 0.11366968682000914, 0.849719518667936, 0.02993141161648307, 0.04822282982655606, 0.02993141161648307, 0.04157140502289316, 0.21685950637758414, 0.0318436821632512, 0.562302995161208, 0.14914129620763222, 0.03909920468146034, 0.9600471874996395, 0.027043582746468717, 0.006760895686617179, 0.01336939711666739, 0.02673879423333478, 0.9492271952833846, 0.20968911759242398, 0.3064032213622143, 0.3447994016440589, 0.07091800038753113, 0.06815109160890596, 0.38099244525830545, 0.1611419288937497, 0.2760179858702075, 0.11873154630289877, 0.06317745009918083, 0.9810582815591485, 0.012908661599462481, 0.9653971708241216, 0.3809545145169678, 0.06577482630821285, 0.4629136829451826, 0.05125041671333935, 0.03880092277487635, 0.03256982673630079, 0.9553815842648232, 0.09863640094502461, 0.01842658039632328, 0.07695807106699723, 0.7858394580784928, 0.020594413384126018, 0.995634461516463, 0.3504629358583106, 0.06323877572443307, 0.485772718553606, 0.060059172475718556, 0.04045161910864573, 0.015460306333252237, 0.007730153166626118, 0.9739992989948909, 0.10176112933779453, 0.0811884822514534, 0.21393103845141642, 0.4527206921321617, 0.15049870993519793, 0.9747585169458024, 0.04572914898377337, 0.9025372526260832, 0.03256807683722396, 0.01650710743804502, 0.00267682823319649, 0.0036363679264854666, 0.012363650950050587, 0.017454566047130242, 0.9629102269333516, 0.0036363679264854666, 0.009502974536340934, 0.9883093517794572, 0.003517309570625927, 0.003517309570625927, 0.003517309570625927, 0.9883639893458854, 0.003517309570625927, 0.001491614069639199, 0.11037944115330073, 0.8121838609185439, 0.052206492437371965, 0.023865825114227184, 0.02733807682659173, 0.02278173068882644, 0.8110296125222213, 0.12529951878854542, 0.013669038413295864, 0.6515534026304832, 0.1707736788360672, 0.02298009926290086, 0.06443439597244752, 0.09011803632510142, 0.6485481910627905, 0.19792799027763688, 0.032314773922879486, 0.055618697424956044, 0.06563938453084896, 0.1856591844068325, 0.7929634869312322, 0.002114569298483286, 0.0071895356148431715, 0.012264501931203058, 0.9815750945184757, 0.007668555425925591, 0.017026099722057143, 0.07402652053068323, 0.6595762979283876, 0.11770216764378634, 0.13176720654461616, 0.9876440036657179, 0.011484232600764161, 0.9856849984858753, 0.2070474940730198, 0.1328699138219641, 0.39243730048149783, 0.22523995171123495, 0.04234077938417926, 0.9897591207325196, 0.02626684434472564, 0.9099585362279954, 0.015009625339843223, 0.007504812669921612, 0.04127646968456886, 0.17645068881456386, 0.437638927648341, 0.2583345888799028, 0.046768152021829594, 0.0808534153597732, 0.0038369135920161895, 0.020719333396887425, 0.034532222328145706, 0.9331373855783373, 0.007673827184032379, 0.5986497747533447, 0.02654563221383333, 0.03844539837865517, 0.030207098726086203, 0.3063426981918237, 0.018049027176632006, 0.012032684784421339, 0.009024513588316003, 0.9596066115576017, 0.0030081711961053347, 0.7148988591405055, 0.24526390339000828, 0.00908384827370401, 0.012263195169500413, 0.019076081374778422, 0.9788178542620939, 0.41643280458739346, 0.014929934782817114, 0.3072676900463651, 0.02713074170210852, 0.23438392239691383, 0.00022735252078628888, 0.0034102878117943333, 0.9746602566108205, 0.0122770361224596, 0.009321453352237843, 0.9753170483787676, 0.008481017811989284, 0.008481017811989284, 0.008481017811989284, 0.004257532489348671, 0.004257532489348671, 0.9877475375288916, 0.0021287662446743353, 0.0015920753894596898, 0.014328678505137207, 0.028657357010274415, 0.9520610828968945, 0.004776226168379069, 0.0007595756151417201, 0.009114907381700642, 0.006076604921133761, 0.7975543958988061, 0.18609602570972142, 0.009604216511024825, 0.017730861251122755, 0.9700258676135074, 0.0018469647136586202, 0.0003693929427317241, 0.7714018408290497, 0.1285669734715083, 0.038959688930760086, 0.0023375813358456053, 0.058439533396140136, 0.10573144876059803, 0.22990171529622308, 0.07608929866656723, 0.23503657594243316, 0.3533717735619104, 0.03984953510996904, 0.13482426045539525, 0.3351788675360729, 0.1582912089090437, 0.33163668663740903, 0.8992696185959091, 0.028355348334105242, 0.0202538202386466, 0.008101528095458641, 0.04455840452502253, 0.25960359152599155, 0.028449708660382635, 0.024004441682197848, 0.033784029034204376, 0.6534542457931637, 0.0371506411209611, 0.9157391798387554, 0.015439227478840975, 0.022676365359547684, 0.00916704131556183, 0.965923179131681, 0.9723732278144225, 0.7087608026249854, 0.04720274990070969, 0.025903948116243122, 0.1253463267180431, 0.09296639157273921, 0.020357825816748307, 0.9682690904090914, 0.0025447282270935384, 0.0025447282270935384, 0.006361820567733847, 0.9578104208047656, 0.014623059859614743, 0.014623059859614743, 0.0073115299298073715, 0.017122740937336182, 0.017122740937336182, 0.9588734924908261, 0.023279386376984137, 0.5653115853978445, 0.004718794535875163, 0.17553915673455606, 0.23122093225788298, 0.27754547763183546, 0.025081887608210316, 0.14144539897089098, 0.42762562479571686, 0.12828768743871508, 0.9764329673588019, 0.977026998544781, 0.9960988892847302, 0.9836405435735073, 0.01890584020248967, 0.16745172750776566, 0.7121199809604443, 0.07112197028555639, 0.03030936286430884, 0.7044620138650692, 0.11640107774465804, 0.00941974039552146, 0.09599164022102821, 0.07356368689835807, 0.012670896122287207, 0.18790011810611273, 0.6341628986081305, 0.04759312202029829, 0.11743757381632046, 0.002243459997345426, 0.004486919994690852, 0.0067303799920362785, 0.9848789388346422, 0.004486919994690852, 0.9706298043785808, 0.35431237251555175, 0.21827232984946174, 0.2824907162842712, 0.07778729868697323, 0.06714272097191373, 0.005757036294628137, 0.9959672789706677, 0.9880095969133336, 0.9799423055196727, 0.2806807429750588, 0.17600654242525102, 0.403308252041832, 0.07389710023500977, 0.06604252775883736, 0.9695033010264904, 0.19283424320627865, 0.19688154282672188, 0.42574980846017246, 0.11462996989513383, 0.0697179999134413, 0.1510229317020094, 0.027423100438756568, 0.5870502286782389, 0.06777423394149838, 0.16669327480987028, 0.004071693530422526, 0.004071693530422526, 0.9894215278926738, 0.004071693530422526, 0.30579319863832877, 0.15604398327047977, 0.009607803640857566, 0.07123026837187506, 0.45753023544911375, 0.002498501167482558, 0.004997002334965116, 0.0037477517512238367, 0.9619229494807847, 0.028732763426049416, 0.004432187616524624, 0.00554023452065578, 0.02548507879501659, 0.002216093808262312, 0.9628927596899746, 0.07582897547632338, 0.7955738353418536, 0.06808397323052312, 0.028998729338926516, 0.031520357977094036, 0.9660173771521541, 0.9556404634263322, 0.00918015531789758, 0.9792165672424086, 0.006120103545265054, 0.8905875981186042, 0.01693668966311133, 0.01693668966311133, 0.02399364368940772, 0.050810068989334, 0.9880247771822751, 0.9627581096416561, 0.01925516219283312, 0.01925516219283312, 0.0357139495644006, 0.1549213217590891, 0.24131047002973377, 0.5395702109864847, 0.02799201452344912, 0.019189172911745274, 0.4839935834406864, 0.44300930055510696, 0.04311641320910667, 0.010423748248355458, 0.025118747738312883, 0.03588392534044697, 0.925805273783532, 0.01435357013617879, 0.004449887929913275, 0.002966591953275517, 0.004449887929913275, 0.0014832959766377584, 0.9863918244641094, 0.025659592063761, 0.9622347023910375, 0.0016037245039850624, 0.004811173511955188, 0.00641489801594025, 0.9534588833544081, 0.016438946264731174, 0.016438946264731174, 0.0322028205439081, 0.8562647411290435, 0.005779993430957864, 0.078442767991571, 0.02724854046022993, 0.9361327493690607, 0.041299974236870325, 0.020649987118435163, 0.0034416645197391936, 0.9589428104339169, 0.006523420479142292, 0.003261710239571146, 0.013046840958284584, 0.019570261437426878, 0.02923137336737869, 0.0038975164489838256, 0.0019487582244919128, 0.9646353211234968, 0.0014040426682250908, 0.007020213341125453, 0.011232341345800726, 0.9701934837435376, 0.008424256009350544, 0.6880841361346114, 0.14715462713373867, 0.022773930389745272, 0.11133921523875466, 0.03055988949735049, 0.06898285974895844, 0.017453494635278642, 0.6831796471523354, 0.08144964163130033, 0.14877026379594652, 0.0025080860370118125, 0.0025080860370118125, 0.01003234414804725, 0.9831697265086305, 0.0025080860370118125, 0.05830397209704173, 0.25578516790960243, 0.29083594292395304, 0.3175087278129223, 0.07762464320251304, 0.0018934926315801708, 0.9326803705269184, 0.05950976842109108, 0.004327983157897533, 0.0016229936842115749, 0.03846533788857991, 0.8517324818185551, 0.013345117226650173, 0.018055158600761997, 0.07850068956853043, 0.004937985696582315, 0.004937985696582315, 0.9925351250130453, 0.9635356100911231, 0.9707310458835373, 0.9822719469325983, 0.025297155246886954, 0.9658913821538655, 0.0007665804620268774, 0.0030663218481075095, 0.004599482772161264, 0.31864777991025117, 0.35488461025851215, 0.10477170513736318, 0.1727814084721428, 0.04897223811558454, 0.0036805092079355995, 0.0018402546039677998, 0.008281145717855098, 0.984536213122773, 0.0027603819059516996, 0.03362533273387502, 0.9616845161888254, 0.13814509918370527, 0.01758210353247158, 0.005023458152134737, 0.010046916304269474, 0.8288705951022315, 0.976192820302449, 0.007567386203894954, 0.007567386203894954, 0.21130989899082614, 0.3757879347558034, 0.26561975328015736, 0.07795239169205812, 0.06934137167956332, 0.02153775123261622, 0.026922189040770275, 0.0982659899988115, 0.83324175081184, 0.020191641780577706, 0.10663058295920834, 0.017771763826534726, 0.005331529147960417, 0.03909788041837639, 0.8299413706991716, 0.9593117335179416, 0.023686709469578803, 0.003307475494467361, 0.9922426483402083, 0.003307475494467361, 0.9472987611670971, 0.01933262777892035, 0.8452397613361909, 0.006463489544847429, 0.00849487197322805, 0.04542909794378479, 0.09436694735477247, 0.001801222466794996, 0.012608557267564971, 0.9519460737011554, 0.032422004402309926, 0.001801222466794996, 0.021605198089068675, 0.009971629887262466, 0.038224581234506116, 0.8858131216518157, 0.0448723344926811, 0.17646949377487783, 0.28878069872772644, 0.09069711191685581, 0.11463677192507567, 0.3295465197702951, 0.16184469140279825, 0.24634767186974602, 0.24921217968218493, 0.09411954240870694, 0.24839374887863094, 0.010590285033414385, 0.8008903056519628, 0.16679698927627656, 0.009266499404237587, 0.013237856291767982, 0.9871476937507009, 0.9642753882556548, 0.00532748833290417, 0.00532748833290417, 0.00532748833290417, 0.026637441664520853, 0.9744210982788801, 0.015467001559982223, 0.9565448812974959, 0.09784241787946714, 0.06897890460502434, 0.04060460341997887, 0.18687901814978225, 0.6051553545845043, 0.16314272780758568, 0.03335115389592893, 0.35074296847218595, 0.3985462890563507, 0.05419562508088451, 0.9824375413424943, 0.003002241905280307, 0.00900672571584092, 0.8766546363418496, 0.03902914476864399, 0.06905156382144706, 0.002742424173775552, 0.7116590730947557, 0.001371212086887776, 0.01371212086887776, 0.2705858518125211, 0.015712606019306956, 0.003928151504826739, 0.978109724701858, 0.9118018460699997, 0.007353240694112901, 0.004902160462741934, 0.022059722082338702, 0.05392376509016127, 0.04170760610110649, 0.9342503766647854, 0.025024563660663895, 0.026311075914542383, 0.026311075914542383, 0.9208876570089835, 0.026311075914542383, 0.026311075914542383, 0.010467719469819777, 0.0026169298674549443, 0.007850789602364832, 0.9813487002956041, 0.003945055294877491, 0.011835165884632471, 0.9231429390013327, 0.019725276474387453, 0.04339560824365239, 0.11211109423051756, 0.7444762858706264, 0.08353375648548367, 0.028577337745033887, 0.032241098994397206, 0.7997353165718071, 0.06369045039533168, 0.03260289818362328, 0.05436877668930981, 0.0495931408990326, 0.20167795945331426, 0.5487846349811669, 0.16528139020822397, 0.07058728580866, 0.013707798806592454, 0.4556756902704867, 0.09923308914120577, 0.0036507156540242923, 0.4092120364919957, 0.03186079116239383, 0.9200381482502634, 0.01824438254320636, 0.00912219127160318, 0.027366573814809537, 0.02606340363315194, 0.9830928425643751, 0.823347818961312, 0.03220920563173837, 0.024156904223803777, 0.034222280983722014, 0.08555570245930505, 0.005823188282382401, 0.059436680399489336, 0.03594312767401551, 0.7572152763056563, 0.14156371514067562, 0.948732939578037, 0.03663806067476159, 0.005784956948646567, 0.0077132759315287555, 0.0019283189828821889, 0.9694555926343463, 0.009999315341469691, 0.9599342727810903, 0.009999315341469691, 0.019998630682939382, 0.010277106119354224, 0.026720475910320982, 0.07605058528322126, 0.04316384570128774, 0.8447781230109173, 0.0018389477383878822, 0.0036778954767757643, 0.9893538832526806, 0.0036778954767757643, 0.00787846329875642, 0.013130772164594033, 0.976929449045796, 0.12795162062476417, 0.03321820920065993, 0.04183033751194214, 0.09596371546857314, 0.7012733053472653, 0.9923681692929881, 0.9701833185571939, 0.0006188468159839149, 0.0015471170399597874, 0.9861324012703685, 0.009282702239758725, 0.0024753872639356597, 0.9635146194360007, 0.9714076418224717, 0.01832844607212211, 0.6308519828686253, 0.11165521820683634, 0.01588939643712671, 0.03607322434374713, 0.20527382424179913, 0.967304466777013, 0.00921242349311441, 0.00921242349311441, 0.01842484698622882, 0.020513739722348233, 0.02524767965827475, 0.23275204684972034, 0.7140359403355828, 0.007100909903889774, 0.002673184624332254, 0.002673184624332254, 0.01871229237032578, 0.9757123878812727, 0.002673184624332254, 0.006698053562154872, 0.002679221424861949, 0.9899723164864901, 0.931265723864986, 0.0019001114293323222, 0.015412014926806614, 0.011189545083845898, 0.040113463508126807, 0.0034237316005309355, 0.1723278238933904, 0.8022944383910825, 0.014836170268967386, 0.006847463201061871, 0.004447033257123597, 0.024458682914179786, 0.08671714851391014, 0.8805125849104724, 0.003335274942842698, 0.011688895388273546, 0.011688895388273546, 0.9701783172267043, 0.11388213105118018, 0.8259726976240769, 0.044505660410806044, 0.010471920096660247, 0.003926970036247593, 0.9765517877736748, 0.004177542985820203, 0.004177542985820203, 0.990077687639388, 0.004177542985820203, 0.013850066114776733, 0.9764296610917597, 0.013850066114776733, 0.0025126492392798685, 0.0025126492392798685, 0.9950090987548279, 0.10913204055697054, 0.10073726820643435, 0.013269156296008824, 0.005145183053554442, 0.7717774580331663, 0.00961558540359151, 0.9343143817156417, 0.02884675621077453, 0.0032051951345305036, 0.022436365941713523, 0.004764205090385326, 0.9909546588001478, 0.018365579788486994, 0.07652324911869582, 0.0933583639248089, 0.022956974735608742, 0.7881894659225669, 0.9622534244141985, 0.08160747367934539, 0.3208089717853858, 0.138233067660932, 0.3753527424588259, 0.08389747931830661, 0.9821739763863095, 0.028887469893714986, 0.2017186504532519, 0.23296677314024278, 0.35315186039790003, 0.1290307096798208, 0.08316808038229881, 0.9422749986198222, 0.22939043822184085, 0.44903842539951083, 0.13072597946541972, 0.02178766324423662, 0.1689872417479816, 0.9721804217177513, 0.0016590109585627156, 0.00746554931353222, 0.003318021917125431, 0.01493109862706444, 0.08704788128429297, 0.012964578063618101, 0.7889871793001872, 0.02407707354671933, 0.0851957987037761, 0.008960984520543523, 0.008960984520543523, 0.9379163798168888, 0.03883093292235527, 0.008960984520543523, 0.9869486209481492, 0.9710834039404322, 0.07497875227000331, 0.09956194973557815, 0.10202026948213565, 0.7104544067551133, 0.012906178669426798, 0.9356787622780633, 0.01317857411659244, 0.00658928705829622, 0.01317857411659244, 0.02635714823318488, 0.013364486300821146, 0.023242584870993295, 0.7861804332613482, 0.12144250595093997, 0.05520113906860908, 0.007570056503510506, 0.030280226014042025, 0.007570056503510506, 0.007570056503510506, 0.9613971759458343, 0.9317941394617161, 0.8479345341702924, 0.057751752838841895, 0.02999125362017111, 0.04957232003334068, 0.014871696010002204, 0.9792917475652629, 0.20670501869844374, 0.22371077918371268, 0.37021540576430445, 0.10917698231542648, 0.09030058817677798, 0.019665257299105416, 0.9537649790066127, 0.019665257299105416, 0.009832628649552708, 0.0032422570901693955, 0.992130669591835, 0.9580880277974644, 0.003604800741976908, 0.03244320667779217, 0.003604800741976908, 0.061281612613607435, 0.8975953847522501, 0.004752301219159178, 0.9932309548042683, 0.009150788259753797, 0.9608327672741486, 0.018301576519507593, 0.009150788259753797, 0.9856293346745928, 0.3640823385222088, 0.2677999443042628, 0.21012353424133864, 0.05976950558940125, 0.09837548974442308, 0.044911826628350304, 0.9330431982039776, 0.012070053406369144, 0.00926306424209725, 0.0008420967492815682, 0.058951678486791545, 0.49619262934810865, 0.14747520872265768, 0.27805221644584416, 0.019394526147120346, 0.9663320109046437, 0.9823212192931211, 0.022036286568318828, 0.9521995406626189, 0.0011598045562273068, 0.01043824100604576, 0.013917654674727682, 0.2623239404212093, 0.037053782916639515, 0.13053037163816195, 0.132635700212971, 0.43706621213036156, 0.009709127404289032, 0.9660581767267588, 0.008090939503574193, 0.01294550320571871, 0.0032363758014296775, 0.004120524068222552, 0.01648209627289021, 0.9642026319640772, 0.01648209627289021, 0.002945460776036721, 0.002945460776036721, 0.0014727303880183605, 0.004418191164055081, 0.9896748207483382, 0.015998818648437087, 0.018460175363581254, 0.9648518323365135, 0.0012306783575720835, 0.9460221946366407, 0.08790563686482117, 0.08238689733070684, 0.11944129134547452, 0.11392255181136017, 0.5960238696843481, 0.21882904653976387, 0.21045065982580832, 0.405225628380345, 0.09054063061855196, 0.07495502952700023, 0.7108471534563777, 0.038950528956513845, 0.04868816119564231, 0.051414698222598275, 0.15034904177214345, 0.0011184047147761065, 0.9819593395734215, 0.0033552141443283197, 0.0067104282886566394, 0.0067104282886566394, 0.07006533468891814, 0.005004666763494153, 0.040037334107953224, 0.015014000290482459, 0.8708120168479827, 0.2942021949729484, 0.26129240267124926, 0.19159551495184618, 0.13939377543880616, 0.11357661078833528], \"Term\": [\"abl\", \"abl\", \"abl\", \"abl\", \"abl\", \"accept\", \"accept\", \"accept\", \"accept\", \"accept\", \"access\", \"access\", \"access\", \"access\", \"access\", \"account\", \"account\", \"account\", \"account\", \"account\", \"action\", \"action\", \"action\", \"action\", \"action\", \"adapt\", \"adapt\", \"adapt\", \"adapt\", \"adapt\", \"adaptor\", \"adaptor\", \"adaptor\", \"address\", \"address\", \"address\", \"address\", \"address\", \"addresse\", \"addresse\", \"addresse\", \"addresse\", \"administr\", \"administr\", \"administr\", \"administr\", \"administr\", \"aforement\", \"alert\", \"alert\", \"alert\", \"alert\", \"alert\", \"alloc\", \"alloc\", \"alloc\", \"alloc\", \"alloc\", \"analyst\", \"analyst\", \"analyst\", \"analyst\", \"analyst\", \"android\", \"android\", \"android\", \"android\", \"android\", \"annual\", \"annual\", \"annual\", \"annual\", \"annual\", \"appear\", \"appear\", \"appear\", \"appear\", \"appear\", \"appl\", \"appl\", \"appl\", \"appl\", \"approv\", \"approv\", \"approv\", \"approv\", \"approv\", \"assign\", \"assign\", \"assign\", \"assign\", \"assign\", \"assigne\", \"assigne\", \"assigne\", \"assigne\", \"assigne\", \"asterisk\", \"attach\", \"attach\", \"attach\", \"attach\", \"attach\", \"azur\", \"azur\", \"backpack\", \"backpack\", \"backpack\", \"backpack\", \"banner\", \"baselin\", \"behav\", \"best\", \"best\", \"best\", \"best\", \"best\", \"binari\", \"black\", \"black\", \"black\", \"black\", \"black\", \"boundari\", \"breakdown\", \"breakdown\", \"breakdown\", \"breakdown\", \"broad\", \"broad\", \"broad\", \"broad\", \"broad\", \"bucket\", \"bucket\", \"bucket\", \"bulk\", \"bulk\", \"bulk\", \"bulk\", \"bulk\", \"cabl\", \"cabl\", \"cabl\", \"cabl\", \"cabl\", \"camera\", \"camera\", \"camera\", \"cap\", \"cap\", \"cap\", \"cap\", \"card\", \"card\", \"card\", \"card\", \"card\", \"cascad\", \"cascad\", \"cascad\", \"chang\", \"chang\", \"chang\", \"chang\", \"chang\", \"charger\", \"charger\", \"charger\", \"check\", \"check\", \"check\", \"check\", \"check\", \"claim\", \"claim\", \"claim\", \"client\", \"client\", \"client\", \"client\", \"client\", \"close\", \"close\", \"close\", \"close\", \"close\", \"comment\", \"comment\", \"comment\", \"comment\", \"comment\", \"commun\", \"commun\", \"commun\", \"commun\", \"commun\", \"complaint\", \"complaint\", \"complaint\", \"complaint\", \"complet\", \"complet\", \"complet\", \"complet\", \"complet\", \"compliant\", \"compliant\", \"confidenti\", \"confidenti\", \"confidenti\", \"confidenti\", \"confidenti\", \"confluenc\", \"confluenc\", \"confluenc\", \"confluenc\", \"confluenc\", \"connect\", \"connect\", \"connect\", \"connect\", \"connect\", \"consider\", \"consider\", \"consider\", \"consider\", \"consider\", \"consol\", \"consol\", \"consol\", \"consol\", \"consol\", \"content\", \"content\", \"content\", \"content\", \"content\", \"contract\", \"contract\", \"contract\", \"contract\", \"contract\", \"contractor\", \"contractor\", \"contractor\", \"contractor\", \"contractor\", \"contribut\", \"contribut\", \"contribut\", \"contribut\", \"contribut\", \"cooki\", \"copi\", \"copi\", \"copi\", \"copi\", \"copi\", \"cord\", \"cord\", \"cord\", \"correct\", \"correct\", \"correct\", \"correct\", \"correct\", \"count\", \"count\", \"count\", \"creat\", \"creat\", \"creat\", \"creat\", \"creat\", \"ctrl\", \"ctrl\", \"ctrl\", \"ctrl\", \"ctrl\", \"data\", \"data\", \"data\", \"data\", \"data\", \"date\", \"date\", \"date\", \"date\", \"date\", \"day\", \"day\", \"day\", \"day\", \"day\", \"dear\", \"dear\", \"dear\", \"dear\", \"dear\", \"debug\", \"debug\", \"debug\", \"decemb\", \"decemb\", \"decemb\", \"decemb\", \"decemb\", \"declin\", \"declin\", \"declin\", \"declin\", \"delet\", \"delet\", \"delet\", \"delet\", \"delet\", \"descript\", \"descript\", \"descript\", \"descript\", \"descript\", \"detail\", \"detail\", \"detail\", \"detail\", \"detail\", \"devic\", \"devic\", \"devic\", \"devic\", \"devic\", \"diagnost\", \"diagnost\", \"diagnost\", \"diagnost\", \"direct\", \"direct\", \"direct\", \"direct\", \"direct\", \"disclosur\", \"disclosur\", \"disclosur\", \"disclosur\", \"disk\", \"disk\", \"disk\", \"disk\", \"disk\", \"document\", \"document\", \"document\", \"document\", \"document\", \"door\", \"door\", \"door\", \"door\", \"dynam\", \"dynam\", \"dynam\", \"dynam\", \"dynam\", \"enclos\", \"enclos\", \"enclos\", \"enclos\", \"enclos\", \"enclosur\", \"encod\", \"encod\", \"engin\", \"engin\", \"engin\", \"engin\", \"engin\", \"english\", \"english\", \"english\", \"english\", \"english\", \"enter\", \"enter\", \"enter\", \"enter\", \"enter\", \"entiti\", \"entiti\", \"entiti\", \"entiti\", \"entiti\", \"error\", \"error\", \"error\", \"error\", \"error\", \"event\", \"event\", \"event\", \"event\", \"event\", \"expens\", \"expens\", \"expens\", \"expens\", \"expens\", \"expir\", \"expir\", \"expir\", \"expir\", \"expir\", \"express\", \"express\", \"express\", \"express\", \"fals\", \"fals\", \"fals\", \"fault\", \"fault\", \"fault\", \"februari\", \"februari\", \"februari\", \"februari\", \"februari\", \"feedback\", \"feedback\", \"feedback\", \"feedback\", \"feedback\", \"fetch\", \"file\", \"file\", \"file\", \"file\", \"file\", \"fill\", \"fill\", \"fill\", \"fill\", \"fill\", \"floor\", \"floor\", \"floor\", \"floor\", \"floor\", \"follow\", \"follow\", \"follow\", \"follow\", \"follow\", \"form\", \"form\", \"form\", \"form\", \"form\", \"friday\", \"friday\", \"friday\", \"friday\", \"friday\", \"fuse\", \"fusion\", \"fusion\", \"fusion\", \"fusion\", \"fusion\", \"galaxi\", \"galaxi\", \"galaxi\", \"galaxi\", \"galaxi\", \"game\", \"gate\", \"gate\", \"gate\", \"get\", \"get\", \"get\", \"get\", \"get\", \"gigabit\", \"graph\", \"graph\", \"grind\", \"grind\", \"grind\", \"grind\", \"group\", \"group\", \"group\", \"group\", \"group\", \"guest\", \"guest\", \"guest\", \"guest\", \"guest\", \"hang\", \"happen\", \"happen\", \"happen\", \"happen\", \"happen\", \"haven\", \"haven\", \"haven\", \"haven\", \"haven\", \"head\", \"head\", \"head\", \"head\", \"head\", \"headset\", \"headset\", \"headset\", \"height\", \"height\", \"height\", \"hello\", \"hello\", \"hello\", \"hello\", \"hello\", \"help\", \"help\", \"help\", \"help\", \"help\", \"hereinaft\", \"hereinaft\", \"hero\", \"high\", \"high\", \"high\", \"high\", \"high\", \"holder\", \"holder\", \"idea\", \"idea\", \"idea\", \"idea\", \"idea\", \"identif\", \"import\", \"import\", \"import\", \"import\", \"import\", \"incom\", \"incom\", \"incom\", \"inform\", \"inform\", \"inform\", \"inform\", \"inform\", \"inspect\", \"instal\", \"instal\", \"instal\", \"instal\", \"instal\", \"intend\", \"intend\", \"intend\", \"intend\", \"intend\", \"intercept\", \"intercept\", \"interfer\", \"interfer\", \"interfer\", \"interfer\", \"interfer\", \"intern\", \"intern\", \"intern\", \"intern\", \"intern\", \"internship\", \"internship\", \"internship\", \"internship\", \"internship\", \"investig\", \"investig\", \"investig\", \"investig\", \"investig\", \"issu\", \"issu\", \"issu\", \"issu\", \"issu\", \"item\", \"item\", \"item\", \"item\", \"item\", \"jabber\", \"jabber\", \"join\", \"join\", \"join\", \"join\", \"join\", \"journal\", \"journal\", \"journey\", \"juli\", \"juli\", \"juli\", \"juli\", \"juli\", \"kernel\", \"keyboard\", \"keyboard\", \"keyboard\", \"keyboard\", \"keyboard\", \"kind\", \"kind\", \"kind\", \"kind\", \"kind\", \"kingdom\", \"kingdom\", \"kingdom\", \"kingdom\", \"kingdom\", \"know\", \"know\", \"know\", \"know\", \"know\", \"languag\", \"languag\", \"languag\", \"languag\", \"languag\", \"laptop\", \"laptop\", \"laptop\", \"laptop\", \"laptop\", \"leas\", \"leav\", \"leav\", \"leav\", \"leav\", \"leav\", \"leaver\", \"leaver\", \"leaver\", \"leaver\", \"leaver\", \"ledger\", \"ledger\", \"ledger\", \"ledger\", \"legal\", \"legal\", \"legal\", \"legal\", \"liabil\", \"liabil\", \"liabil\", \"liabil\", \"liabil\", \"librari\", \"librari\", \"librari\", \"librari\", \"librari\", \"licens\", \"licens\", \"licens\", \"licens\", \"licens\", \"line\", \"line\", \"line\", \"line\", \"line\", \"link\", \"link\", \"link\", \"link\", \"link\", \"locat\", \"locat\", \"locat\", \"locat\", \"locat\", \"longer\", \"longer\", \"longer\", \"longer\", \"longer\", \"lose\", \"lose\", \"lose\", \"lose\", \"lose\", \"machin\", \"machin\", \"machin\", \"machin\", \"machin\", \"magnifi\", \"malfunct\", \"manag\", \"manag\", \"manag\", \"manag\", \"manag\", \"mandatori\", \"mandatori\", \"mandatori\", \"mandatori\", \"mandatori\", \"maximum\", \"maximum\", \"maximum\", \"maximum\", \"meal\", \"meal\", \"meal\", \"meet\", \"meet\", \"meet\", \"meet\", \"meet\", \"messag\", \"messag\", \"messag\", \"messag\", \"messag\", \"mice\", \"microphon\", \"mime\", \"misus\", \"mobil\", \"mobil\", \"mobil\", \"mobil\", \"mobil\", \"monday\", \"monday\", \"monday\", \"monday\", \"monday\", \"monitor\", \"monitor\", \"monitor\", \"monitor\", \"monitor\", \"necessarili\", \"necessarili\", \"necessarili\", \"necessarili\", \"necessarili\", \"neck\", \"need\", \"need\", \"need\", \"need\", \"need\", \"newslett\", \"newslett\", \"nonrecover\", \"nope\", \"novemb\", \"novemb\", \"novemb\", \"novemb\", \"novemb\", \"occurr\", \"octob\", \"octob\", \"octob\", \"octob\", \"octob\", \"offic\", \"offic\", \"offic\", \"offic\", \"offic\", \"omit\", \"omit\", \"omit\", \"omit\", \"open\", \"open\", \"open\", \"open\", \"open\", \"opinion\", \"opinion\", \"opinion\", \"opinion\", \"opinion\", \"opportun\", \"opportun\", \"opportun\", \"opportun\", \"opportun\", \"order\", \"order\", \"order\", \"order\", \"order\", \"outbox\", \"outlet\", \"partit\", \"partit\", \"partit\", \"past\", \"past\", \"past\", \"past\", \"past\", \"paus\", \"payrol\", \"payrol\", \"payrol\", \"permiss\", \"permiss\", \"permiss\", \"permiss\", \"permiss\", \"phone\", \"phone\", \"phone\", \"phone\", \"phone\", \"pilot\", \"pilot\", \"pilot\", \"pilot\", \"pipelin\", \"pipelin\", \"pipelin\", \"pipelin\", \"pipelin\", \"poll\", \"poll\", \"poll\", \"poll\", \"poll\", \"pop\", \"pop\", \"pop\", \"port\", \"port\", \"port\", \"port\", \"port\", \"portal\", \"portal\", \"portal\", \"portal\", \"previou\", \"previou\", \"previou\", \"previou\", \"previou\", \"printer\", \"printer\", \"printer\", \"printer\", \"privileg\", \"privileg\", \"privileg\", \"privileg\", \"privileg\", \"problem\", \"problem\", \"problem\", \"problem\", \"problem\", \"profil\", \"profil\", \"profil\", \"profil\", \"profil\", \"prohibit\", \"prohibit\", \"prohibit\", \"prohibit\", \"prohibit\", \"provid\", \"provid\", \"provid\", \"provid\", \"provid\", \"purchas\", \"purchas\", \"purchas\", \"purchas\", \"purchas\", \"queue\", \"queue\", \"queue\", \"queue\", \"queue\", \"quiz\", \"quiz\", \"quiz\", \"quota\", \"raid\", \"randomli\", \"receipt\", \"receipt\", \"receipt\", \"receipt\", \"receipt\", \"receiv\", \"receiv\", \"receiv\", \"receiv\", \"receiv\", \"recipi\", \"recipi\", \"recipi\", \"recipi\", \"recipi\", \"reconnect\", \"reconnect\", \"recoveri\", \"recoveri\", \"recoveri\", \"recoveri\", \"recoveri\", \"recreat\", \"recreat\", \"recreat\", \"regard\", \"regard\", \"regard\", \"regard\", \"regard\", \"regist\", \"regist\", \"regist\", \"regist\", \"regist\", \"regular\", \"regular\", \"regular\", \"regular\", \"regular\", \"reimburs\", \"reimburs\", \"relianc\", \"relianc\", \"relianc\", \"replica\", \"replica\", \"report\", \"report\", \"report\", \"report\", \"report\", \"repositori\", \"repositori\", \"repositori\", \"repositori\", \"repositori\", \"repres\", \"repres\", \"repres\", \"repres\", \"repres\", \"request\", \"request\", \"request\", \"request\", \"request\", \"requir\", \"requir\", \"requir\", \"requir\", \"requir\", \"requisit\", \"requisit\", \"requisit\", \"requisit\", \"requisit\", \"resign\", \"resubmit\", \"resubmit\", \"resubmit\", \"resubmit\", \"resubmit\", \"retina\", \"retina\", \"retroact\", \"review\", \"review\", \"review\", \"review\", \"review\", \"right\", \"right\", \"right\", \"right\", \"right\", \"riser\", \"roam\", \"roam\", \"roam\", \"roam\", \"roam\", \"room\", \"room\", \"room\", \"room\", \"room\", \"satisfact\", \"satisfact\", \"satisfact\", \"save\", \"save\", \"save\", \"save\", \"save\", \"school\", \"school\", \"school\", \"scienc\", \"scienc\", \"scienc\", \"scienc\", \"scienc\", \"score\", \"score\", \"score\", \"score\", \"seat\", \"seat\", \"seat\", \"seat\", \"seat\", \"section\", \"section\", \"section\", \"section\", \"section\", \"send\", \"send\", \"send\", \"send\", \"send\", \"senior\", \"senior\", \"senior\", \"senior\", \"senior\", \"server\", \"server\", \"server\", \"server\", \"server\", \"sheet\", \"sheet\", \"sheet\", \"sheet\", \"sheet\", \"shipment\", \"show\", \"show\", \"show\", \"show\", \"show\", \"site\", \"site\", \"site\", \"site\", \"site\", \"size\", \"size\", \"size\", \"size\", \"size\", \"slack\", \"slave\", \"slave\", \"slave\", \"slave\", \"snow\", \"snow\", \"snow\", \"snow\", \"snow\", \"sole\", \"sole\", \"sole\", \"sole\", \"sonar\", \"sonar\", \"sonar\", \"sourc\", \"sourc\", \"sourc\", \"sourc\", \"sourc\", \"spark\", \"spell\", \"starter\", \"starter\", \"starter\", \"starter\", \"starter\", \"stateless\", \"static\", \"static\", \"statu\", \"statu\", \"statu\", \"statu\", \"statu\", \"status\", \"status\", \"status\", \"status\", \"street\", \"street\", \"street\", \"street\", \"street\", \"strictli\", \"strictli\", \"strictli\", \"strictli\", \"strictli\", \"studio\", \"studio\", \"studio\", \"submit\", \"submit\", \"submit\", \"submit\", \"submit\", \"subscript\", \"subscript\", \"subscript\", \"subscript\", \"subscript\", \"subsidiari\", \"subsidiari\", \"subsidiari\", \"subsidiari\", \"subsidiari\", \"suffix\", \"suffix\", \"suffix\", \"supplier\", \"supplier\", \"supplier\", \"supplier\", \"supplier\", \"suppress\", \"suscept\", \"suscept\", \"suscept\", \"suscept\", \"suspici\", \"suspici\", \"suspici\", \"tape\", \"tape\", \"tape\", \"task\", \"task\", \"task\", \"task\", \"task\", \"technician\", \"technician\", \"technician\", \"technician\", \"technician\", \"telephon\", \"telephon\", \"templat\", \"templat\", \"templat\", \"templat\", \"templat\", \"tent\", \"test\", \"test\", \"test\", \"test\", \"test\", \"thunderbolt\", \"thunderbolt\", \"thursday\", \"thursday\", \"thursday\", \"thursday\", \"thursday\", \"ticker\", \"ticket\", \"ticket\", \"ticket\", \"ticket\", \"ticket\", \"timecard\", \"timecard\", \"timecard\", \"timecard\", \"timecard\", \"titl\", \"titl\", \"titl\", \"titl\", \"titl\", \"token\", \"token\", \"token\", \"token\", \"token\", \"tomcat\", \"tone\", \"tool\", \"tool\", \"tool\", \"tool\", \"tool\", \"transact\", \"transact\", \"transact\", \"transact\", \"transact\", \"transfer\", \"transfer\", \"transfer\", \"transfer\", \"transfer\", \"tray\", \"tray\", \"tray\", \"tray\", \"tray\", \"treasuri\", \"tri\", \"tri\", \"tri\", \"tri\", \"tri\", \"trunk\", \"tuesday\", \"tuesday\", \"tuesday\", \"tuesday\", \"tuesday\", \"ultima\", \"ultima\", \"ultima\", \"ultima\", \"undeliver\", \"undeliver\", \"unidentifi\", \"unknown\", \"unknown\", \"unknown\", \"unknown\", \"unknown\", \"unlaw\", \"unlaw\", \"unplan\", \"unplan\", \"unplan\", \"unplan\", \"unrespons\", \"updat\", \"updat\", \"updat\", \"updat\", \"updat\", \"upgrad\", \"upgrad\", \"upgrad\", \"upgrad\", \"upgrad\", \"user\", \"user\", \"user\", \"user\", \"user\", \"vacanc\", \"varianc\", \"video\", \"video\", \"video\", \"video\", \"video\", \"view\", \"view\", \"view\", \"view\", \"view\", \"virtual\", \"virtual\", \"virtual\", \"virtual\", \"virtual\", \"virus\", \"virus\", \"virus\", \"virus\", \"visitor\", \"visitor\", \"visitor\", \"visitor\", \"visitor\", \"visual\", \"visual\", \"visual\", \"visual\", \"vital\", \"want\", \"want\", \"want\", \"want\", \"want\", \"wednesday\", \"wednesday\", \"wednesday\", \"wednesday\", \"wednesday\", \"week\", \"week\", \"week\", \"week\", \"week\", \"wireless\", \"wireless\", \"wireless\", \"wireless\", \"wireless\", \"withdraw\", \"withdraw\", \"withdraw\", \"withdraw\", \"withdraw\", \"work\", \"work\", \"work\", \"work\", \"work\"]}, \"R\": 30, \"lambda.step\": 0.01, \"plot.opts\": {\"xlab\": \"PC1\", \"ylab\": \"PC2\"}, \"topic.order\": [4, 3, 2, 1, 5]};\n",
       "\n",
       "function LDAvis_load_lib(url, callback){\n",
       "  var s = document.createElement('script');\n",
       "  s.src = url;\n",
       "  s.async = true;\n",
       "  s.onreadystatechange = s.onload = callback;\n",
       "  s.onerror = function(){console.warn(\"failed to load library \" + url);};\n",
       "  document.getElementsByTagName(\"head\")[0].appendChild(s);\n",
       "}\n",
       "\n",
       "if(typeof(LDAvis) !== \"undefined\"){\n",
       "   // already loaded: just create the visualization\n",
       "   !function(LDAvis){\n",
       "       new LDAvis(\"#\" + \"ldavis_el157801401409692366642189097561\", ldavis_el157801401409692366642189097561_data);\n",
       "   }(LDAvis);\n",
       "}else if(typeof define === \"function\" && define.amd){\n",
       "   // require.js is available: use it to load d3/LDAvis\n",
       "   require.config({paths: {d3: \"https://d3js.org/d3.v5\"}});\n",
       "   require([\"d3\"], function(d3){\n",
       "      window.d3 = d3;\n",
       "      LDAvis_load_lib(\"https://cdn.jsdelivr.net/gh/bmabey/pyLDAvis@3.2.2/pyLDAvis/js/ldavis.v3.0.0.js\", function(){\n",
       "        new LDAvis(\"#\" + \"ldavis_el157801401409692366642189097561\", ldavis_el157801401409692366642189097561_data);\n",
       "      });\n",
       "    });\n",
       "}else{\n",
       "    // require.js not available: dynamically load d3 & LDAvis\n",
       "    LDAvis_load_lib(\"https://d3js.org/d3.v5.js\", function(){\n",
       "         LDAvis_load_lib(\"https://cdn.jsdelivr.net/gh/bmabey/pyLDAvis@3.2.2/pyLDAvis/js/ldavis.v3.0.0.js\", function(){\n",
       "                 new LDAvis(\"#\" + \"ldavis_el157801401409692366642189097561\", ldavis_el157801401409692366642189097561_data);\n",
       "            })\n",
       "         });\n",
       "}\n",
       "</script>"
      ],
      "text/plain": [
       "<IPython.core.display.HTML object>"
      ]
     },
     "execution_count": 53,
     "metadata": {},
     "output_type": "execute_result"
    }
   ],
   "source": [
    "# Visualize\n",
    "import pyLDAvis.gensim\n",
    "\n",
    "lda_display = pyLDAvis.gensim.prepare(lda_model, bow_corpus,dictionary, sort_topics=True)\n",
    "pyLDAvis.display(lda_display)"
   ]
  },
  {
   "cell_type": "code",
   "execution_count": null,
   "id": "74d6496c",
   "metadata": {},
   "outputs": [],
   "source": []
  },
  {
   "cell_type": "code",
   "execution_count": null,
   "id": "0a2058b4",
   "metadata": {},
   "outputs": [],
   "source": []
  },
  {
   "cell_type": "code",
   "execution_count": null,
   "id": "cf3aa6d9",
   "metadata": {},
   "outputs": [],
   "source": []
  },
  {
   "cell_type": "code",
   "execution_count": null,
   "id": "4365ba4f",
   "metadata": {},
   "outputs": [],
   "source": []
  }
 ],
 "metadata": {
  "kernelspec": {
   "display_name": "conda_python3",
   "language": "python",
   "name": "conda_python3"
  },
  "language_info": {
   "codemirror_mode": {
    "name": "ipython",
    "version": 3
   },
   "file_extension": ".py",
   "mimetype": "text/x-python",
   "name": "python",
   "nbconvert_exporter": "python",
   "pygments_lexer": "ipython3",
   "version": "3.6.13"
  }
 },
 "nbformat": 4,
 "nbformat_minor": 5
}
